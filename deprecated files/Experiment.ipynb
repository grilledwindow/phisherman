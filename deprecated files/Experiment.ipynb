{
 "cells": [
  {
   "cell_type": "markdown",
   "id": "93198c0994843f28",
   "metadata": {},
   "source": [
    "# Experimentation of Detecting Phishing Links\n",
    "\n",
    "```bash\n",
    "conda create --name phisherman python=3.10\n",
    "pip3 install numpy pandas matplotlib scikit-learn\n",
    "conda install -c conda-forge cudatoolkit=11.2 cudnn=8.1.0 -y\n",
    "python -m pip install \"tensorflow<2.11\"\n",
    "```"
   ]
  },
  {
   "cell_type": "code",
   "execution_count": null,
   "id": "initial_id",
   "metadata": {
    "ExecuteTime": {
     "end_time": "2025-02-20T02:32:53.653755Z",
     "start_time": "2025-02-20T02:32:53.081480Z"
    },
    "collapsed": true
   },
   "outputs": [],
   "source": [
    "import numpy as np\n",
    "import pandas as pd\n",
    "import matplotlib.pyplot as plt\n",
    "# from sklearn.feature_extraction.text import CountVectorizer\n",
    "from sklearn.model_selection import train_test_split\n",
    "# from sklearn.ensemble import RandomForestClassifier\n",
    "# from sklearn.metrics import classification_report, roc_auc_score\n",
    "\n",
    "import tensorflow as tf\n",
    "from tensorflow.keras.preprocessing.text import Tokenizer\n",
    "from tensorflow.keras.preprocessing.sequence import pad_sequences\n",
    "from tensorflow.keras.layers import (\n",
    "    Input,\n",
    "    Embedding,\n",
    "    Conv1D,\n",
    "    GlobalMaxPooling1D,\n",
    "    Dense,\n",
    "    Dropout,\n",
    ")\n",
    "from tensorflow.keras.models import Model\n",
    "from tensorflow.keras.layers import LSTM\n",
    "\n",
    "import os\n",
    "import requests\n",
    "import zipfile\n",
    "import os"
   ]
  },
  {
   "cell_type": "markdown",
   "id": "1ae402dfdef1fa6e",
   "metadata": {},
   "source": [
    "## Getting the Data\n",
    "While serving the web, came across this [webpage](https://archive.ics.uci.edu/dataset/967/phiusiil+phishing+url+dataset) which contains 134,850 legitimate and 100,945 phishing URLs.\n",
    "\n",
    "- Provided by University of California, Irvine\n",
    "- Contains URLS and the labels that can be used for training\n",
    "- Dataset is used for their paper [A diverse security profile empowered phishing URL detection framework based on similarity index and incremental learning](https://www.sciencedirect.com/science/article/abs/pii/S0167404823004558?via%3Dihub)\n"
   ]
  },
  {
   "cell_type": "code",
   "execution_count": 2,
   "id": "4829c142ac17e35",
   "metadata": {
    "jupyter": {
     "is_executing": true
    }
   },
   "outputs": [],
   "source": [
    "def get_dataset():\n",
    "    \"\"\"\n",
    "    Creates a folder named 'dataset' if it doesn't exist.\n",
    "    :return:\n",
    "        None\n",
    "    \"\"\"\n",
    "    dest_folder_name = 'dataset'\n",
    "    dest_csv_name = 'phishing_data.csv'\n",
    "    csv_link = 'https://archive.ics.uci.edu/static/public/967/phiusiil+phishing+url+dataset.zip'\n",
    "\n",
    "    dest_folder_path = os.path.join(os.getcwd(), dest_folder_name)\n",
    "    dest_file_path = os.path.join(dest_folder_path, dest_csv_name)\n",
    "    dest_zip_save_path = os.path.join(dest_folder_name, \"dataset.zip\")\n",
    "\n",
    "\n",
    "    if not os.path.exists(dest_file_path):\n",
    "        # Create folder\n",
    "        os.makedirs(dest_folder_path)\n",
    "        # Download zip file\n",
    "        zip_folder = requests.get(csv_link, stream=True)\n",
    "        zip_folder.raise_for_status()\n",
    "\n",
    "        with open(dest_zip_save_path, 'wb') as f:\n",
    "            for chunk in zip_folder.iter_content(chunk_size=8192):\n",
    "                f.write(chunk)\n",
    "        print(f\"Zip file downloaded to: {dest_zip_save_path}\")\n",
    "\n",
    "        # Extract the zip file\n",
    "        with zipfile.ZipFile(dest_zip_save_path, 'r') as zip_ref:\n",
    "            zip_ref.extractall(dest_folder_path)\n",
    "        print(f\"Zip file extracted to: {dest_folder_path}\")\n",
    "\n",
    "        # Rename csv file to csv_name variable\n",
    "        old_filepath = os.path.join(dest_folder_path, 'PhiUSIIL_Phishing_URL_Dataset.csv')\n",
    "        os.rename(old_filepath, dest_file_path)\n",
    "        print(f\"File renamed to '{dest_file_path}'\")\n",
    "        \n",
    "get_dataset()"
   ]
  },
  {
   "cell_type": "code",
   "execution_count": 3,
   "id": "52354d701214468e",
   "metadata": {},
   "outputs": [
    {
     "data": {
      "text/html": [
       "<div>\n",
       "<style scoped>\n",
       "    .dataframe tbody tr th:only-of-type {\n",
       "        vertical-align: middle;\n",
       "    }\n",
       "\n",
       "    .dataframe tbody tr th {\n",
       "        vertical-align: top;\n",
       "    }\n",
       "\n",
       "    .dataframe thead th {\n",
       "        text-align: right;\n",
       "    }\n",
       "</style>\n",
       "<table border=\"1\" class=\"dataframe\">\n",
       "  <thead>\n",
       "    <tr style=\"text-align: right;\">\n",
       "      <th></th>\n",
       "      <th>FILENAME</th>\n",
       "      <th>URL</th>\n",
       "      <th>URLLength</th>\n",
       "      <th>Domain</th>\n",
       "      <th>DomainLength</th>\n",
       "      <th>IsDomainIP</th>\n",
       "      <th>TLD</th>\n",
       "      <th>URLSimilarityIndex</th>\n",
       "      <th>CharContinuationRate</th>\n",
       "      <th>TLDLegitimateProb</th>\n",
       "      <th>...</th>\n",
       "      <th>Pay</th>\n",
       "      <th>Crypto</th>\n",
       "      <th>HasCopyrightInfo</th>\n",
       "      <th>NoOfImage</th>\n",
       "      <th>NoOfCSS</th>\n",
       "      <th>NoOfJS</th>\n",
       "      <th>NoOfSelfRef</th>\n",
       "      <th>NoOfEmptyRef</th>\n",
       "      <th>NoOfExternalRef</th>\n",
       "      <th>label</th>\n",
       "    </tr>\n",
       "  </thead>\n",
       "  <tbody>\n",
       "    <tr>\n",
       "      <th>0</th>\n",
       "      <td>521848.txt</td>\n",
       "      <td>https://www.southbankmosaics.com</td>\n",
       "      <td>31</td>\n",
       "      <td>www.southbankmosaics.com</td>\n",
       "      <td>24</td>\n",
       "      <td>0</td>\n",
       "      <td>com</td>\n",
       "      <td>100.0</td>\n",
       "      <td>1.000000</td>\n",
       "      <td>0.522907</td>\n",
       "      <td>...</td>\n",
       "      <td>0</td>\n",
       "      <td>0</td>\n",
       "      <td>1</td>\n",
       "      <td>34</td>\n",
       "      <td>20</td>\n",
       "      <td>28</td>\n",
       "      <td>119</td>\n",
       "      <td>0</td>\n",
       "      <td>124</td>\n",
       "      <td>1</td>\n",
       "    </tr>\n",
       "    <tr>\n",
       "      <th>1</th>\n",
       "      <td>31372.txt</td>\n",
       "      <td>https://www.uni-mainz.de</td>\n",
       "      <td>23</td>\n",
       "      <td>www.uni-mainz.de</td>\n",
       "      <td>16</td>\n",
       "      <td>0</td>\n",
       "      <td>de</td>\n",
       "      <td>100.0</td>\n",
       "      <td>0.666667</td>\n",
       "      <td>0.032650</td>\n",
       "      <td>...</td>\n",
       "      <td>0</td>\n",
       "      <td>0</td>\n",
       "      <td>1</td>\n",
       "      <td>50</td>\n",
       "      <td>9</td>\n",
       "      <td>8</td>\n",
       "      <td>39</td>\n",
       "      <td>0</td>\n",
       "      <td>217</td>\n",
       "      <td>1</td>\n",
       "    </tr>\n",
       "    <tr>\n",
       "      <th>2</th>\n",
       "      <td>597387.txt</td>\n",
       "      <td>https://www.voicefmradio.co.uk</td>\n",
       "      <td>29</td>\n",
       "      <td>www.voicefmradio.co.uk</td>\n",
       "      <td>22</td>\n",
       "      <td>0</td>\n",
       "      <td>uk</td>\n",
       "      <td>100.0</td>\n",
       "      <td>0.866667</td>\n",
       "      <td>0.028555</td>\n",
       "      <td>...</td>\n",
       "      <td>0</td>\n",
       "      <td>0</td>\n",
       "      <td>1</td>\n",
       "      <td>10</td>\n",
       "      <td>2</td>\n",
       "      <td>7</td>\n",
       "      <td>42</td>\n",
       "      <td>2</td>\n",
       "      <td>5</td>\n",
       "      <td>1</td>\n",
       "    </tr>\n",
       "    <tr>\n",
       "      <th>3</th>\n",
       "      <td>554095.txt</td>\n",
       "      <td>https://www.sfnmjournal.com</td>\n",
       "      <td>26</td>\n",
       "      <td>www.sfnmjournal.com</td>\n",
       "      <td>19</td>\n",
       "      <td>0</td>\n",
       "      <td>com</td>\n",
       "      <td>100.0</td>\n",
       "      <td>1.000000</td>\n",
       "      <td>0.522907</td>\n",
       "      <td>...</td>\n",
       "      <td>1</td>\n",
       "      <td>1</td>\n",
       "      <td>1</td>\n",
       "      <td>3</td>\n",
       "      <td>27</td>\n",
       "      <td>15</td>\n",
       "      <td>22</td>\n",
       "      <td>1</td>\n",
       "      <td>31</td>\n",
       "      <td>1</td>\n",
       "    </tr>\n",
       "    <tr>\n",
       "      <th>4</th>\n",
       "      <td>151578.txt</td>\n",
       "      <td>https://www.rewildingargentina.org</td>\n",
       "      <td>33</td>\n",
       "      <td>www.rewildingargentina.org</td>\n",
       "      <td>26</td>\n",
       "      <td>0</td>\n",
       "      <td>org</td>\n",
       "      <td>100.0</td>\n",
       "      <td>1.000000</td>\n",
       "      <td>0.079963</td>\n",
       "      <td>...</td>\n",
       "      <td>1</td>\n",
       "      <td>0</td>\n",
       "      <td>1</td>\n",
       "      <td>244</td>\n",
       "      <td>15</td>\n",
       "      <td>34</td>\n",
       "      <td>72</td>\n",
       "      <td>1</td>\n",
       "      <td>85</td>\n",
       "      <td>1</td>\n",
       "    </tr>\n",
       "  </tbody>\n",
       "</table>\n",
       "<p>5 rows × 56 columns</p>\n",
       "</div>"
      ],
      "text/plain": [
       "     FILENAME                                 URL  URLLength  \\\n",
       "0  521848.txt    https://www.southbankmosaics.com         31   \n",
       "1   31372.txt            https://www.uni-mainz.de         23   \n",
       "2  597387.txt      https://www.voicefmradio.co.uk         29   \n",
       "3  554095.txt         https://www.sfnmjournal.com         26   \n",
       "4  151578.txt  https://www.rewildingargentina.org         33   \n",
       "\n",
       "                       Domain  DomainLength  IsDomainIP  TLD  \\\n",
       "0    www.southbankmosaics.com            24           0  com   \n",
       "1            www.uni-mainz.de            16           0   de   \n",
       "2      www.voicefmradio.co.uk            22           0   uk   \n",
       "3         www.sfnmjournal.com            19           0  com   \n",
       "4  www.rewildingargentina.org            26           0  org   \n",
       "\n",
       "   URLSimilarityIndex  CharContinuationRate  TLDLegitimateProb  ...  Pay  \\\n",
       "0               100.0              1.000000           0.522907  ...    0   \n",
       "1               100.0              0.666667           0.032650  ...    0   \n",
       "2               100.0              0.866667           0.028555  ...    0   \n",
       "3               100.0              1.000000           0.522907  ...    1   \n",
       "4               100.0              1.000000           0.079963  ...    1   \n",
       "\n",
       "   Crypto  HasCopyrightInfo  NoOfImage  NoOfCSS  NoOfJS  NoOfSelfRef  \\\n",
       "0       0                 1         34       20      28          119   \n",
       "1       0                 1         50        9       8           39   \n",
       "2       0                 1         10        2       7           42   \n",
       "3       1                 1          3       27      15           22   \n",
       "4       0                 1        244       15      34           72   \n",
       "\n",
       "   NoOfEmptyRef  NoOfExternalRef  label  \n",
       "0             0              124      1  \n",
       "1             0              217      1  \n",
       "2             2                5      1  \n",
       "3             1               31      1  \n",
       "4             1               85      1  \n",
       "\n",
       "[5 rows x 56 columns]"
      ]
     },
     "execution_count": 3,
     "metadata": {},
     "output_type": "execute_result"
    }
   ],
   "source": [
    "phishing_df = pd.read_csv(\"dataset/phishing_data.csv\")\n",
    "phishing_df.head()"
   ]
  },
  {
   "cell_type": "markdown",
   "id": "365a552b",
   "metadata": {},
   "source": [
    "## Exploration"
   ]
  },
  {
   "cell_type": "code",
   "execution_count": 4,
   "id": "acb2bc1e",
   "metadata": {},
   "outputs": [],
   "source": [
    "phishing_df_url_labels = phishing_df[['URL', 'label']]"
   ]
  },
  {
   "cell_type": "code",
   "execution_count": 5,
   "id": "9570ab54",
   "metadata": {},
   "outputs": [
    {
     "data": {
      "text/html": [
       "<div>\n",
       "<style scoped>\n",
       "    .dataframe tbody tr th:only-of-type {\n",
       "        vertical-align: middle;\n",
       "    }\n",
       "\n",
       "    .dataframe tbody tr th {\n",
       "        vertical-align: top;\n",
       "    }\n",
       "\n",
       "    .dataframe thead th {\n",
       "        text-align: right;\n",
       "    }\n",
       "</style>\n",
       "<table border=\"1\" class=\"dataframe\">\n",
       "  <thead>\n",
       "    <tr style=\"text-align: right;\">\n",
       "      <th></th>\n",
       "      <th>URL</th>\n",
       "      <th>label</th>\n",
       "    </tr>\n",
       "  </thead>\n",
       "  <tbody>\n",
       "    <tr>\n",
       "      <th>11</th>\n",
       "      <td>http://www.teramill.com</td>\n",
       "      <td>0</td>\n",
       "    </tr>\n",
       "    <tr>\n",
       "      <th>20</th>\n",
       "      <td>http://www.f0519141.xsph.ru</td>\n",
       "      <td>0</td>\n",
       "    </tr>\n",
       "    <tr>\n",
       "      <th>21</th>\n",
       "      <td>http://www.shprakserf.gq</td>\n",
       "      <td>0</td>\n",
       "    </tr>\n",
       "    <tr>\n",
       "      <th>27</th>\n",
       "      <td>https://service-mitld.firebaseapp.com/</td>\n",
       "      <td>0</td>\n",
       "    </tr>\n",
       "    <tr>\n",
       "      <th>28</th>\n",
       "      <td>http://www.kuradox92.lima-city.de</td>\n",
       "      <td>0</td>\n",
       "    </tr>\n",
       "  </tbody>\n",
       "</table>\n",
       "</div>"
      ],
      "text/plain": [
       "                                       URL  label\n",
       "11                 http://www.teramill.com      0\n",
       "20             http://www.f0519141.xsph.ru      0\n",
       "21                http://www.shprakserf.gq      0\n",
       "27  https://service-mitld.firebaseapp.com/      0\n",
       "28       http://www.kuradox92.lima-city.de      0"
      ]
     },
     "execution_count": 5,
     "metadata": {},
     "output_type": "execute_result"
    }
   ],
   "source": [
    "phishing_df_url_labels[phishing_df_url_labels[\"label\"] == 0].head()"
   ]
  },
  {
   "cell_type": "code",
   "execution_count": 6,
   "id": "4e832c76",
   "metadata": {},
   "outputs": [
    {
     "data": {
      "text/html": [
       "<div>\n",
       "<style scoped>\n",
       "    .dataframe tbody tr th:only-of-type {\n",
       "        vertical-align: middle;\n",
       "    }\n",
       "\n",
       "    .dataframe tbody tr th {\n",
       "        vertical-align: top;\n",
       "    }\n",
       "\n",
       "    .dataframe thead th {\n",
       "        text-align: right;\n",
       "    }\n",
       "</style>\n",
       "<table border=\"1\" class=\"dataframe\">\n",
       "  <thead>\n",
       "    <tr style=\"text-align: right;\">\n",
       "      <th></th>\n",
       "      <th>URL</th>\n",
       "      <th>label</th>\n",
       "    </tr>\n",
       "  </thead>\n",
       "  <tbody>\n",
       "    <tr>\n",
       "      <th>0</th>\n",
       "      <td>https://www.southbankmosaics.com</td>\n",
       "      <td>1</td>\n",
       "    </tr>\n",
       "    <tr>\n",
       "      <th>1</th>\n",
       "      <td>https://www.uni-mainz.de</td>\n",
       "      <td>1</td>\n",
       "    </tr>\n",
       "    <tr>\n",
       "      <th>2</th>\n",
       "      <td>https://www.voicefmradio.co.uk</td>\n",
       "      <td>1</td>\n",
       "    </tr>\n",
       "    <tr>\n",
       "      <th>3</th>\n",
       "      <td>https://www.sfnmjournal.com</td>\n",
       "      <td>1</td>\n",
       "    </tr>\n",
       "    <tr>\n",
       "      <th>4</th>\n",
       "      <td>https://www.rewildingargentina.org</td>\n",
       "      <td>1</td>\n",
       "    </tr>\n",
       "  </tbody>\n",
       "</table>\n",
       "</div>"
      ],
      "text/plain": [
       "                                  URL  label\n",
       "0    https://www.southbankmosaics.com      1\n",
       "1            https://www.uni-mainz.de      1\n",
       "2      https://www.voicefmradio.co.uk      1\n",
       "3         https://www.sfnmjournal.com      1\n",
       "4  https://www.rewildingargentina.org      1"
      ]
     },
     "execution_count": 6,
     "metadata": {},
     "output_type": "execute_result"
    }
   ],
   "source": [
    "phishing_df_url_labels[phishing_df_url_labels[\"label\"] == 1].head()"
   ]
  },
  {
   "cell_type": "code",
   "execution_count": 7,
   "id": "ea732de6",
   "metadata": {},
   "outputs": [
    {
     "name": "stdout",
     "output_type": "stream",
     "text": [
      "<class 'pandas.core.frame.DataFrame'>\n",
      "RangeIndex: 235795 entries, 0 to 235794\n",
      "Data columns (total 2 columns):\n",
      " #   Column  Non-Null Count   Dtype \n",
      "---  ------  --------------   ----- \n",
      " 0   URL     235795 non-null  object\n",
      " 1   label   235795 non-null  int64 \n",
      "dtypes: int64(1), object(1)\n",
      "memory usage: 3.6+ MB\n"
     ]
    }
   ],
   "source": [
    "phishing_df_url_labels.info()"
   ]
  },
  {
   "cell_type": "code",
   "execution_count": 8,
   "id": "6c9459d9",
   "metadata": {},
   "outputs": [
    {
     "name": "stderr",
     "output_type": "stream",
     "text": [
      "C:\\Users\\lelop\\AppData\\Local\\Temp\\ipykernel_1324\\2867867651.py:1: FutureWarning: The 'axis' keyword in DataFrame.groupby is deprecated and will be removed in a future version.\n",
      "  check_label_counts = phishing_df_url_labels.groupby(by=\"label\", axis=0).count()\n"
     ]
    },
    {
     "data": {
      "text/html": [
       "<div>\n",
       "<style scoped>\n",
       "    .dataframe tbody tr th:only-of-type {\n",
       "        vertical-align: middle;\n",
       "    }\n",
       "\n",
       "    .dataframe tbody tr th {\n",
       "        vertical-align: top;\n",
       "    }\n",
       "\n",
       "    .dataframe thead th {\n",
       "        text-align: right;\n",
       "    }\n",
       "</style>\n",
       "<table border=\"1\" class=\"dataframe\">\n",
       "  <thead>\n",
       "    <tr style=\"text-align: right;\">\n",
       "      <th></th>\n",
       "      <th>URL</th>\n",
       "    </tr>\n",
       "  </thead>\n",
       "  <tbody>\n",
       "    <tr>\n",
       "      <th>Non-Phishing</th>\n",
       "      <td>100945</td>\n",
       "    </tr>\n",
       "    <tr>\n",
       "      <th>Phishing</th>\n",
       "      <td>134850</td>\n",
       "    </tr>\n",
       "  </tbody>\n",
       "</table>\n",
       "</div>"
      ],
      "text/plain": [
       "                 URL\n",
       "Non-Phishing  100945\n",
       "Phishing      134850"
      ]
     },
     "execution_count": 8,
     "metadata": {},
     "output_type": "execute_result"
    }
   ],
   "source": [
    "check_label_counts = phishing_df_url_labels.groupby(by=\"label\", axis=0).count()\n",
    "check_label_counts.index = ['Non-Phishing', 'Phishing']\n",
    "\n",
    "check_label_counts"
   ]
  },
  {
   "cell_type": "markdown",
   "id": "15087824",
   "metadata": {},
   "source": [
    "## Spliting Train and Test set"
   ]
  },
  {
   "cell_type": "code",
   "execution_count": 9,
   "id": "eed37286",
   "metadata": {},
   "outputs": [],
   "source": [
    "X = phishing_df_url_labels['URL']\n",
    "y = phishing_df_url_labels['label']\n",
    "\n",
    "X_train, X_test, y_train, y_test = train_test_split(\n",
    "    X, y, test_size=0.7, random_state=42, stratify=y, train_size=0.3\n",
    ")"
   ]
  },
  {
   "cell_type": "code",
   "execution_count": 10,
   "id": "6ecc5963",
   "metadata": {},
   "outputs": [
    {
     "data": {
      "text/plain": [
       "70738"
      ]
     },
     "execution_count": 10,
     "metadata": {},
     "output_type": "execute_result"
    }
   ],
   "source": [
    "len(X_train)"
   ]
  },
  {
   "cell_type": "code",
   "execution_count": 11,
   "id": "8b0aac73",
   "metadata": {},
   "outputs": [
    {
     "data": {
      "text/plain": [
       "165057"
      ]
     },
     "execution_count": 11,
     "metadata": {},
     "output_type": "execute_result"
    }
   ],
   "source": [
    "len(X_test)"
   ]
  },
  {
   "cell_type": "markdown",
   "id": "725a1679",
   "metadata": {},
   "source": [
    "## Experimenting with Simple AI Architectures"
   ]
  },
  {
   "cell_type": "markdown",
   "id": "dd4fca72",
   "metadata": {},
   "source": [
    "### Data Processing"
   ]
  },
  {
   "cell_type": "code",
   "execution_count": 12,
   "id": "0b1e7724",
   "metadata": {},
   "outputs": [],
   "source": [
    "# Initialize tokenizer with an OOV token.\n",
    "tokenizer = Tokenizer(char_level=True, oov_token=\"<OOV>\")\n",
    "tokenizer.fit_on_texts(X_train)\n",
    "vocab_size = len(tokenizer.word_index) + 1  # plus one for padding token\n",
    "sequences = tokenizer.texts_to_sequences(X_train)\n",
    "max_length = max(len(seq) for seq in sequences)"
   ]
  },
  {
   "cell_type": "code",
   "execution_count": 13,
   "id": "64a9d958",
   "metadata": {},
   "outputs": [],
   "source": [
    "def convert_url_padding(data):\n",
    "    # Convert URLs to sequences and pad them\n",
    "    sequences = tokenizer.texts_to_sequences(data)\n",
    "    padded_sequences = pad_sequences(sequences, maxlen=max_length, padding=\"post\")\n",
    "    return padded_sequences"
   ]
  },
  {
   "cell_type": "markdown",
   "id": "771734f8",
   "metadata": {},
   "source": [
    "### Creating a CNN Model"
   ]
  },
  {
   "cell_type": "code",
   "execution_count": 14,
   "id": "fdf288a0",
   "metadata": {},
   "outputs": [],
   "source": [
    "def create_cnn_model(vocab_size, embedding_dim, input_length):\n",
    "    inputs = Input(shape=(input_length,))\n",
    "    x = Embedding(input_dim=vocab_size, output_dim=embedding_dim, input_length=input_length, mask_zero=True)(inputs)\n",
    "    \n",
    "    # A 1D convolution layer to capture n-gram features\n",
    "    x = Conv1D(filters=128, kernel_size=5, activation='relu')(x)\n",
    "    x = GlobalMaxPooling1D()(x)\n",
    "    x = Dense(128, activation='relu')(x)\n",
    "    x = Dropout(0.5)(x)\n",
    "    # Binary classification output\n",
    "    output_class = Dense(1, activation='sigmoid', name='binary_class')(x)\n",
    "    model = Model(inputs, output_class)\n",
    "    return model\n",
    "\n",
    "# Create the CNN model\n",
    "embedding_dim = 50  # You can experiment with this size\n",
    "cnn_model = create_cnn_model(vocab_size, embedding_dim, input_length=max_length)\n",
    "opt = tf.keras.optimizers.Adam(learning_rate=0.001)\n",
    "\n",
    "cnn_model.compile(optimizer=opt, loss='binary_crossentropy', metrics=['accuracy'])\n",
    "# cnn_model.summary()"
   ]
  },
  {
   "cell_type": "markdown",
   "id": "9d898617",
   "metadata": {},
   "source": [
    "### Creating a RNN Model"
   ]
  },
  {
   "cell_type": "code",
   "execution_count": 15,
   "id": "60fb0137",
   "metadata": {},
   "outputs": [],
   "source": [
    "def create_rnn_model(vocab_size, embedding_dim, input_length):\n",
    "    inputs = Input(shape=(input_length,))\n",
    "    x = Embedding(\n",
    "        input_dim=vocab_size,\n",
    "        output_dim=embedding_dim,\n",
    "        input_length=input_length,\n",
    "        mask_zero=True,\n",
    "    )(inputs)\n",
    "    # An LSTM layer to capture sequential patterns\n",
    "    x = LSTM(128, return_sequences=False)(x)\n",
    "    x = Dense(128, activation=\"relu\")(x)\n",
    "    x = Dropout(0.5)(x)\n",
    "    # Binary classification output\n",
    "    output_class = Dense(1, activation=\"sigmoid\", name=\"binary_class\")(x)\n",
    "    model = Model(inputs, output_class)\n",
    "    return model\n",
    "\n",
    "\n",
    "# Create the RNN model\n",
    "rnn_model = create_rnn_model(\n",
    "    vocab_size, embedding_dim, input_length=max_length\n",
    ")\n",
    "opt = tf.keras.optimizers.Adam(learning_rate=0.001)\n",
    "rnn_model.compile(\n",
    "    optimizer=opt, loss=\"binary_crossentropy\", metrics=[\"accuracy\"]\n",
    ")\n",
    "# rnn_model.summary()"
   ]
  },
  {
   "cell_type": "markdown",
   "id": "b6a01e60",
   "metadata": {},
   "source": [
    "### Training "
   ]
  },
  {
   "cell_type": "code",
   "execution_count": 16,
   "id": "91731c56",
   "metadata": {},
   "outputs": [],
   "source": [
    "X_train_encoding = convert_url_padding(X_train)\n",
    "X_test_encoding = convert_url_padding(X_test)"
   ]
  },
  {
   "cell_type": "code",
   "execution_count": 17,
   "id": "63ed2e58",
   "metadata": {},
   "outputs": [
    {
     "name": "stdout",
     "output_type": "stream",
     "text": [
      "1548/1548 [==============================] - 39s 23ms/step - loss: 0.0339 - accuracy: 0.9892 - val_loss: 0.0136 - val_accuracy: 0.9978\n",
      "1548/1548 [==============================] - 62s 37ms/step - loss: 0.2253 - accuracy: 0.8996 - val_loss: 0.0244 - val_accuracy: 0.9938\n"
     ]
    }
   ],
   "source": [
    "# Assuming X_train, y_train, X_val, y_val have been defined appropriately\n",
    "history_cnn = cnn_model.fit(\n",
    "    X_train_encoding,\n",
    "    y_train,\n",
    "    epochs=1,\n",
    "    validation_split=0.3,\n",
    "    batch_size=32,\n",
    ")\n",
    "\n",
    "history_rnn = rnn_model.fit(\n",
    "    X_train_encoding,\n",
    "    y_train,\n",
    "    epochs=1,\n",
    "    validation_split=0.3,\n",
    "    batch_size=32,\n",
    ")"
   ]
  },
  {
   "cell_type": "code",
   "execution_count": 18,
   "id": "71d84394",
   "metadata": {},
   "outputs": [
    {
     "name": "stdout",
     "output_type": "stream",
     "text": [
      "5159/5159 [==============================] - 53s 10ms/step - loss: 0.0143 - accuracy: 0.9977\n",
      "5159/5159 [==============================] - 71s 14ms/step - loss: 0.0236 - accuracy: 0.9942\n",
      "CNN Accuracy: [0.014300916343927383, 0.9976553320884705]\n",
      "RNN Accuracy: [0.023612914606928825, 0.994208037853241]\n"
     ]
    }
   ],
   "source": [
    "# After training, compare accuracy:\n",
    "cnn_accuracy = cnn_model.evaluate(X_test_encoding, y_test)\n",
    "rnn_accuracy = rnn_model.evaluate(X_test_encoding, y_test)\n",
    "print(\"CNN Accuracy:\", cnn_accuracy)\n",
    "print(\"RNN Accuracy:\", rnn_accuracy)"
   ]
  },
  {
   "cell_type": "code",
   "execution_count": 19,
   "id": "0c6b2dbc",
   "metadata": {},
   "outputs": [
    {
     "name": "stdout",
     "output_type": "stream",
     "text": [
      "1/1 [==============================] - 0s 174ms/step\n"
     ]
    },
    {
     "data": {
      "text/plain": [
       "array([[ True],\n",
       "       [False],\n",
       "       [False],\n",
       "       [False],\n",
       "       [False],\n",
       "       [ True],\n",
       "       [ True],\n",
       "       [ True],\n",
       "       [False],\n",
       "       [False]])"
      ]
     },
     "execution_count": 19,
     "metadata": {},
     "output_type": "execute_result"
    }
   ],
   "source": [
    "cnn_model.predict(\n",
    "    convert_url_padding(\n",
    "        [\n",
    "            \"https://www.southbankmosaics.com\",\n",
    "            \"http://activate.facebook.fblogins.net/88adbao798283o8298398?login.asp\",\n",
    "            \"http://www.buy.com.money.ru\",\n",
    "            \"http://jhomitevd2abj3fk.onion.to/\",\n",
    "            \"premierpaymentprocessing.com/includes/boleto-2via-07-2012.php\",\n",
    "            \"scamme.com\",\n",
    "            \"stealyourmoney.com\",\n",
    "            \"paynow.paypay.com\",\n",
    "            \"https://pornhut.com\",\n",
    "            \"https://paypalll.com\"\n",
    "        ]\n",
    "    )\n",
    ") > 0.1"
   ]
  },
  {
   "cell_type": "code",
   "execution_count": 20,
   "id": "de8dd696",
   "metadata": {},
   "outputs": [
    {
     "name": "stdout",
     "output_type": "stream",
     "text": [
      "5159/5159 [==============================] - 39s 8ms/step\n"
     ]
    }
   ],
   "source": [
    "y_pred = cnn_model.predict(X_test_encoding)"
   ]
  },
  {
   "cell_type": "code",
   "execution_count": 21,
   "id": "e3cdc23b",
   "metadata": {},
   "outputs": [],
   "source": [
    "y_pred_int = (y_pred > 0.5).astype(int)"
   ]
  },
  {
   "cell_type": "code",
   "execution_count": 22,
   "id": "fa7a2264",
   "metadata": {},
   "outputs": [
    {
     "data": {
      "image/png": "[encoded data removed]",
      "text/plain": [
       "<Figure size 640x480 with 2 Axes>"
      ]
     },
     "metadata": {},
     "output_type": "display_data"
    }
   ],
   "source": [
    "from sklearn.metrics import confusion_matrix\n",
    "import seaborn as sns\n",
    "import matplotlib.pyplot as plt\n",
    "\n",
    "cm = confusion_matrix(y_test, y_pred_int)\n",
    "sns.heatmap(\n",
    "    cm,\n",
    "    annot=True,\n",
    "    fmt=\"d\",\n",
    "    cmap=\"Blues\",\n",
    "    xticklabels=[\"Safe\", \"Phishing\"],\n",
    "    yticklabels=[\"Safe\", \"Phishing\"],\n",
    ")\n",
    "plt.xlabel(\"Predicted\")\n",
    "plt.ylabel(\"Actual\")\n",
    "plt.title(\"Confusion Matrix\")\n",
    "plt.show()"
   ]
  },
  {
   "cell_type": "code",
   "execution_count": 23,
   "id": "361011e8",
   "metadata": {},
   "outputs": [
    {
     "name": "stdout",
     "output_type": "stream",
     "text": [
      "Precision: 0.9959\n",
      "Recall: 1.0000\n",
      "F1 Score: 0.9980\n"
     ]
    }
   ],
   "source": [
    "from sklearn.metrics import precision_score, recall_score, f1_score\n",
    "\n",
    "precision = precision_score(y_test, y_pred_int)\n",
    "recall = recall_score(y_test, y_pred_int)\n",
    "f1 = f1_score(y_test, y_pred_int)\n",
    "\n",
    "print(f\"Precision: {precision:.4f}\")\n",
    "print(f\"Recall: {recall:.4f}\")\n",
    "print(f\"F1 Score: {f1:.4f}\")"
   ]
  },
  {
   "cell_type": "markdown",
   "id": "aa65068c",
   "metadata": {},
   "source": []
  },
  {
   "cell_type": "markdown",
   "id": "fcbca5a0",
   "metadata": {},
   "source": []
  },
  {
   "cell_type": "markdown",
   "id": "cf7ef601",
   "metadata": {},
   "source": []
  },
  {
   "cell_type": "markdown",
   "id": "68fe500b",
   "metadata": {},
   "source": [
    "# IGNORE CODE BELOW"
   ]
  },
  {
   "cell_type": "markdown",
   "id": "b2d0376a",
   "metadata": {},
   "source": [
    "## Prepare URL to Character embeddings"
   ]
  },
  {
   "cell_type": "code",
   "execution_count": 24,
   "id": "b3ffc57f",
   "metadata": {},
   "outputs": [
    {
     "ename": "NameError",
     "evalue": "name 'CountVectorizer' is not defined",
     "output_type": "error",
     "traceback": [
      "\u001b[1;31m---------------------------------------------------------------------------\u001b[0m",
      "\u001b[1;31mNameError\u001b[0m                                 Traceback (most recent call last)",
      "Cell \u001b[1;32mIn[24], line 2\u001b[0m\n\u001b[0;32m      1\u001b[0m \u001b[38;5;66;03m# Inputs to the model\u001b[39;00m\n\u001b[1;32m----> 2\u001b[0m vectorizer \u001b[38;5;241m=\u001b[39m \u001b[43mCountVectorizer\u001b[49m(analyzer\u001b[38;5;241m=\u001b[39m\u001b[38;5;124m\"\u001b[39m\u001b[38;5;124mchar\u001b[39m\u001b[38;5;124m\"\u001b[39m, ngram_range\u001b[38;5;241m=\u001b[39m(\u001b[38;5;241m1\u001b[39m, \u001b[38;5;241m1\u001b[39m), lowercase\u001b[38;5;241m=\u001b[39m\u001b[38;5;28;01mTrue\u001b[39;00m)\n\u001b[0;32m      3\u001b[0m X \u001b[38;5;241m=\u001b[39m vectorizer\u001b[38;5;241m.\u001b[39mfit_transform(phishing_df_url_labels[\u001b[38;5;124m'\u001b[39m\u001b[38;5;124mURL\u001b[39m\u001b[38;5;124m'\u001b[39m])\n",
      "\u001b[1;31mNameError\u001b[0m: name 'CountVectorizer' is not defined"
     ]
    }
   ],
   "source": [
    "# Inputs to the model\n",
    "vectorizer = CountVectorizer(analyzer=\"char\", ngram_range=(1, 1), lowercase=True)\n",
    "X = vectorizer.fit_transform(phishing_df_url_labels['URL'])"
   ]
  },
  {
   "cell_type": "code",
   "execution_count": null,
   "id": "fe35c5b6",
   "metadata": {},
   "outputs": [
    {
     "data": {
      "text/plain": [
       "array(['!', '#', '$', '%', '&', \"'\", '(', ')', '*', '+', ',', '-', '.',\n",
       "       '/', '0', '1', '2', '3', '4', '5', '6', '7', '8', '9', ':', ';',\n",
       "       '=', '?', '@', '[', ']', '_', 'a', 'b', 'c', 'd', 'e', 'f', 'g',\n",
       "       'h', 'i', 'j', 'k', 'l', 'm', 'n', 'o', 'p', 'q', 'r', 's', 't',\n",
       "       'u', 'v', 'w', 'x', 'y', 'z', '~', '¢', '£', '¤', '¬', '¹', 'â',\n",
       "       'ã', 'å', '‚', '“', '€'], dtype=object)"
      ]
     },
     "execution_count": 48,
     "metadata": {},
     "output_type": "execute_result"
    }
   ],
   "source": [
    "vectorizer.get_feature_names_out()"
   ]
  },
  {
   "cell_type": "code",
   "execution_count": null,
   "id": "5670610f",
   "metadata": {},
   "outputs": [],
   "source": [
    "y = phishing_df_url_labels['label'].to_numpy()"
   ]
  },
  {
   "cell_type": "code",
   "execution_count": null,
   "id": "07999b35",
   "metadata": {},
   "outputs": [
    {
     "data": {
      "text/plain": [
       "array([1, 1, 1, 1, 1])"
      ]
     },
     "execution_count": 50,
     "metadata": {},
     "output_type": "execute_result"
    }
   ],
   "source": [
    "y[:5]"
   ]
  },
  {
   "cell_type": "markdown",
   "id": "9a7af5ee",
   "metadata": {},
   "source": [
    "## Spliiting to Train and Test dataset"
   ]
  },
  {
   "cell_type": "code",
   "execution_count": null,
   "id": "39ac9eb1",
   "metadata": {},
   "outputs": [],
   "source": [
    "X_train, X_test, y_train, y_test = train_test_split(\n",
    "    X, y, test_size=0.3, random_state=42, stratify=y\n",
    ")"
   ]
  },
  {
   "cell_type": "code",
   "execution_count": null,
   "id": "a9350faf",
   "metadata": {},
   "outputs": [
    {
     "name": "stdout",
     "output_type": "stream",
     "text": [
      "Training Data: 165056\n",
      "Testing Data: 70739\n"
     ]
    }
   ],
   "source": [
    "print(\"Training Data:\", X_train.shape[0])\n",
    "print(\"Testing Data:\", X_test.shape[0])"
   ]
  },
  {
   "cell_type": "markdown",
   "id": "7457fd07",
   "metadata": {},
   "source": [
    "## Baseline Model"
   ]
  },
  {
   "cell_type": "code",
   "execution_count": null,
   "id": "5876f28a",
   "metadata": {},
   "outputs": [
    {
     "data": {
      "text/html": [
       "<style>#sk-container-id-3 {\n",
       "  /* Definition of color scheme common for light and dark mode */\n",
       "  --sklearn-color-text: #000;\n",
       "  --sklearn-color-text-muted: #666;\n",
       "  --sklearn-color-line: gray;\n",
       "  /* Definition of color scheme for unfitted estimators */\n",
       "  --sklearn-color-unfitted-level-0: #fff5e6;\n",
       "  --sklearn-color-unfitted-level-1: #f6e4d2;\n",
       "  --sklearn-color-unfitted-level-2: #ffe0b3;\n",
       "  --sklearn-color-unfitted-level-3: chocolate;\n",
       "  /* Definition of color scheme for fitted estimators */\n",
       "  --sklearn-color-fitted-level-0: #f0f8ff;\n",
       "  --sklearn-color-fitted-level-1: #d4ebff;\n",
       "  --sklearn-color-fitted-level-2: #b3dbfd;\n",
       "  --sklearn-color-fitted-level-3: cornflowerblue;\n",
       "\n",
       "  /* Specific color for light theme */\n",
       "  --sklearn-color-text-on-default-background: var(--sg-text-color, var(--theme-code-foreground, var(--jp-content-font-color1, black)));\n",
       "  --sklearn-color-background: var(--sg-background-color, var(--theme-background, var(--jp-layout-color0, white)));\n",
       "  --sklearn-color-border-box: var(--sg-text-color, var(--theme-code-foreground, var(--jp-content-font-color1, black)));\n",
       "  --sklearn-color-icon: #696969;\n",
       "\n",
       "  @media (prefers-color-scheme: dark) {\n",
       "    /* Redefinition of color scheme for dark theme */\n",
       "    --sklearn-color-text-on-default-background: var(--sg-text-color, var(--theme-code-foreground, var(--jp-content-font-color1, white)));\n",
       "    --sklearn-color-background: var(--sg-background-color, var(--theme-background, var(--jp-layout-color0, #111)));\n",
       "    --sklearn-color-border-box: var(--sg-text-color, var(--theme-code-foreground, var(--jp-content-font-color1, white)));\n",
       "    --sklearn-color-icon: #878787;\n",
       "  }\n",
       "}\n",
       "\n",
       "#sk-container-id-3 {\n",
       "  color: var(--sklearn-color-text);\n",
       "}\n",
       "\n",
       "#sk-container-id-3 pre {\n",
       "  padding: 0;\n",
       "}\n",
       "\n",
       "#sk-container-id-3 input.sk-hidden--visually {\n",
       "  border: 0;\n",
       "  clip: rect(1px 1px 1px 1px);\n",
       "  clip: rect(1px, 1px, 1px, 1px);\n",
       "  height: 1px;\n",
       "  margin: -1px;\n",
       "  overflow: hidden;\n",
       "  padding: 0;\n",
       "  position: absolute;\n",
       "  width: 1px;\n",
       "}\n",
       "\n",
       "#sk-container-id-3 div.sk-dashed-wrapped {\n",
       "  border: 1px dashed var(--sklearn-color-line);\n",
       "  margin: 0 0.4em 0.5em 0.4em;\n",
       "  box-sizing: border-box;\n",
       "  padding-bottom: 0.4em;\n",
       "  background-color: var(--sklearn-color-background);\n",
       "}\n",
       "\n",
       "#sk-container-id-3 div.sk-container {\n",
       "  /* jupyter's `normalize.less` sets `[hidden] { display: none; }`\n",
       "     but bootstrap.min.css set `[hidden] { display: none !important; }`\n",
       "     so we also need the `!important` here to be able to override the\n",
       "     default hidden behavior on the sphinx rendered scikit-learn.org.\n",
       "     See: https://github.com/scikit-learn/scikit-learn/issues/21755 */\n",
       "  display: inline-block !important;\n",
       "  position: relative;\n",
       "}\n",
       "\n",
       "#sk-container-id-3 div.sk-text-repr-fallback {\n",
       "  display: none;\n",
       "}\n",
       "\n",
       "div.sk-parallel-item,\n",
       "div.sk-serial,\n",
       "div.sk-item {\n",
       "  /* draw centered vertical line to link estimators */\n",
       "  background-image: linear-gradient(var(--sklearn-color-text-on-default-background), var(--sklearn-color-text-on-default-background));\n",
       "  background-size: 2px 100%;\n",
       "  background-repeat: no-repeat;\n",
       "  background-position: center center;\n",
       "}\n",
       "\n",
       "/* Parallel-specific style estimator block */\n",
       "\n",
       "#sk-container-id-3 div.sk-parallel-item::after {\n",
       "  content: \"\";\n",
       "  width: 100%;\n",
       "  border-bottom: 2px solid var(--sklearn-color-text-on-default-background);\n",
       "  flex-grow: 1;\n",
       "}\n",
       "\n",
       "#sk-container-id-3 div.sk-parallel {\n",
       "  display: flex;\n",
       "  align-items: stretch;\n",
       "  justify-content: center;\n",
       "  background-color: var(--sklearn-color-background);\n",
       "  position: relative;\n",
       "}\n",
       "\n",
       "#sk-container-id-3 div.sk-parallel-item {\n",
       "  display: flex;\n",
       "  flex-direction: column;\n",
       "}\n",
       "\n",
       "#sk-container-id-3 div.sk-parallel-item:first-child::after {\n",
       "  align-self: flex-end;\n",
       "  width: 50%;\n",
       "}\n",
       "\n",
       "#sk-container-id-3 div.sk-parallel-item:last-child::after {\n",
       "  align-self: flex-start;\n",
       "  width: 50%;\n",
       "}\n",
       "\n",
       "#sk-container-id-3 div.sk-parallel-item:only-child::after {\n",
       "  width: 0;\n",
       "}\n",
       "\n",
       "/* Serial-specific style estimator block */\n",
       "\n",
       "#sk-container-id-3 div.sk-serial {\n",
       "  display: flex;\n",
       "  flex-direction: column;\n",
       "  align-items: center;\n",
       "  background-color: var(--sklearn-color-background);\n",
       "  padding-right: 1em;\n",
       "  padding-left: 1em;\n",
       "}\n",
       "\n",
       "\n",
       "/* Toggleable style: style used for estimator/Pipeline/ColumnTransformer box that is\n",
       "clickable and can be expanded/collapsed.\n",
       "- Pipeline and ColumnTransformer use this feature and define the default style\n",
       "- Estimators will overwrite some part of the style using the `sk-estimator` class\n",
       "*/\n",
       "\n",
       "/* Pipeline and ColumnTransformer style (default) */\n",
       "\n",
       "#sk-container-id-3 div.sk-toggleable {\n",
       "  /* Default theme specific background. It is overwritten whether we have a\n",
       "  specific estimator or a Pipeline/ColumnTransformer */\n",
       "  background-color: var(--sklearn-color-background);\n",
       "}\n",
       "\n",
       "/* Toggleable label */\n",
       "#sk-container-id-3 label.sk-toggleable__label {\n",
       "  cursor: pointer;\n",
       "  display: flex;\n",
       "  width: 100%;\n",
       "  margin-bottom: 0;\n",
       "  padding: 0.5em;\n",
       "  box-sizing: border-box;\n",
       "  text-align: center;\n",
       "  align-items: start;\n",
       "  justify-content: space-between;\n",
       "  gap: 0.5em;\n",
       "}\n",
       "\n",
       "#sk-container-id-3 label.sk-toggleable__label .caption {\n",
       "  font-size: 0.6rem;\n",
       "  font-weight: lighter;\n",
       "  color: var(--sklearn-color-text-muted);\n",
       "}\n",
       "\n",
       "#sk-container-id-3 label.sk-toggleable__label-arrow:before {\n",
       "  /* Arrow on the left of the label */\n",
       "  content: \"▸\";\n",
       "  float: left;\n",
       "  margin-right: 0.25em;\n",
       "  color: var(--sklearn-color-icon);\n",
       "}\n",
       "\n",
       "#sk-container-id-3 label.sk-toggleable__label-arrow:hover:before {\n",
       "  color: var(--sklearn-color-text);\n",
       "}\n",
       "\n",
       "/* Toggleable content - dropdown */\n",
       "\n",
       "#sk-container-id-3 div.sk-toggleable__content {\n",
       "  max-height: 0;\n",
       "  max-width: 0;\n",
       "  overflow: hidden;\n",
       "  text-align: left;\n",
       "  /* unfitted */\n",
       "  background-color: var(--sklearn-color-unfitted-level-0);\n",
       "}\n",
       "\n",
       "#sk-container-id-3 div.sk-toggleable__content.fitted {\n",
       "  /* fitted */\n",
       "  background-color: var(--sklearn-color-fitted-level-0);\n",
       "}\n",
       "\n",
       "#sk-container-id-3 div.sk-toggleable__content pre {\n",
       "  margin: 0.2em;\n",
       "  border-radius: 0.25em;\n",
       "  color: var(--sklearn-color-text);\n",
       "  /* unfitted */\n",
       "  background-color: var(--sklearn-color-unfitted-level-0);\n",
       "}\n",
       "\n",
       "#sk-container-id-3 div.sk-toggleable__content.fitted pre {\n",
       "  /* unfitted */\n",
       "  background-color: var(--sklearn-color-fitted-level-0);\n",
       "}\n",
       "\n",
       "#sk-container-id-3 input.sk-toggleable__control:checked~div.sk-toggleable__content {\n",
       "  /* Expand drop-down */\n",
       "  max-height: 200px;\n",
       "  max-width: 100%;\n",
       "  overflow: auto;\n",
       "}\n",
       "\n",
       "#sk-container-id-3 input.sk-toggleable__control:checked~label.sk-toggleable__label-arrow:before {\n",
       "  content: \"▾\";\n",
       "}\n",
       "\n",
       "/* Pipeline/ColumnTransformer-specific style */\n",
       "\n",
       "#sk-container-id-3 div.sk-label input.sk-toggleable__control:checked~label.sk-toggleable__label {\n",
       "  color: var(--sklearn-color-text);\n",
       "  background-color: var(--sklearn-color-unfitted-level-2);\n",
       "}\n",
       "\n",
       "#sk-container-id-3 div.sk-label.fitted input.sk-toggleable__control:checked~label.sk-toggleable__label {\n",
       "  background-color: var(--sklearn-color-fitted-level-2);\n",
       "}\n",
       "\n",
       "/* Estimator-specific style */\n",
       "\n",
       "/* Colorize estimator box */\n",
       "#sk-container-id-3 div.sk-estimator input.sk-toggleable__control:checked~label.sk-toggleable__label {\n",
       "  /* unfitted */\n",
       "  background-color: var(--sklearn-color-unfitted-level-2);\n",
       "}\n",
       "\n",
       "#sk-container-id-3 div.sk-estimator.fitted input.sk-toggleable__control:checked~label.sk-toggleable__label {\n",
       "  /* fitted */\n",
       "  background-color: var(--sklearn-color-fitted-level-2);\n",
       "}\n",
       "\n",
       "#sk-container-id-3 div.sk-label label.sk-toggleable__label,\n",
       "#sk-container-id-3 div.sk-label label {\n",
       "  /* The background is the default theme color */\n",
       "  color: var(--sklearn-color-text-on-default-background);\n",
       "}\n",
       "\n",
       "/* On hover, darken the color of the background */\n",
       "#sk-container-id-3 div.sk-label:hover label.sk-toggleable__label {\n",
       "  color: var(--sklearn-color-text);\n",
       "  background-color: var(--sklearn-color-unfitted-level-2);\n",
       "}\n",
       "\n",
       "/* Label box, darken color on hover, fitted */\n",
       "#sk-container-id-3 div.sk-label.fitted:hover label.sk-toggleable__label.fitted {\n",
       "  color: var(--sklearn-color-text);\n",
       "  background-color: var(--sklearn-color-fitted-level-2);\n",
       "}\n",
       "\n",
       "/* Estimator label */\n",
       "\n",
       "#sk-container-id-3 div.sk-label label {\n",
       "  font-family: monospace;\n",
       "  font-weight: bold;\n",
       "  display: inline-block;\n",
       "  line-height: 1.2em;\n",
       "}\n",
       "\n",
       "#sk-container-id-3 div.sk-label-container {\n",
       "  text-align: center;\n",
       "}\n",
       "\n",
       "/* Estimator-specific */\n",
       "#sk-container-id-3 div.sk-estimator {\n",
       "  font-family: monospace;\n",
       "  border: 1px dotted var(--sklearn-color-border-box);\n",
       "  border-radius: 0.25em;\n",
       "  box-sizing: border-box;\n",
       "  margin-bottom: 0.5em;\n",
       "  /* unfitted */\n",
       "  background-color: var(--sklearn-color-unfitted-level-0);\n",
       "}\n",
       "\n",
       "#sk-container-id-3 div.sk-estimator.fitted {\n",
       "  /* fitted */\n",
       "  background-color: var(--sklearn-color-fitted-level-0);\n",
       "}\n",
       "\n",
       "/* on hover */\n",
       "#sk-container-id-3 div.sk-estimator:hover {\n",
       "  /* unfitted */\n",
       "  background-color: var(--sklearn-color-unfitted-level-2);\n",
       "}\n",
       "\n",
       "#sk-container-id-3 div.sk-estimator.fitted:hover {\n",
       "  /* fitted */\n",
       "  background-color: var(--sklearn-color-fitted-level-2);\n",
       "}\n",
       "\n",
       "/* Specification for estimator info (e.g. \"i\" and \"?\") */\n",
       "\n",
       "/* Common style for \"i\" and \"?\" */\n",
       "\n",
       ".sk-estimator-doc-link,\n",
       "a:link.sk-estimator-doc-link,\n",
       "a:visited.sk-estimator-doc-link {\n",
       "  float: right;\n",
       "  font-size: smaller;\n",
       "  line-height: 1em;\n",
       "  font-family: monospace;\n",
       "  background-color: var(--sklearn-color-background);\n",
       "  border-radius: 1em;\n",
       "  height: 1em;\n",
       "  width: 1em;\n",
       "  text-decoration: none !important;\n",
       "  margin-left: 0.5em;\n",
       "  text-align: center;\n",
       "  /* unfitted */\n",
       "  border: var(--sklearn-color-unfitted-level-1) 1pt solid;\n",
       "  color: var(--sklearn-color-unfitted-level-1);\n",
       "}\n",
       "\n",
       ".sk-estimator-doc-link.fitted,\n",
       "a:link.sk-estimator-doc-link.fitted,\n",
       "a:visited.sk-estimator-doc-link.fitted {\n",
       "  /* fitted */\n",
       "  border: var(--sklearn-color-fitted-level-1) 1pt solid;\n",
       "  color: var(--sklearn-color-fitted-level-1);\n",
       "}\n",
       "\n",
       "/* On hover */\n",
       "div.sk-estimator:hover .sk-estimator-doc-link:hover,\n",
       ".sk-estimator-doc-link:hover,\n",
       "div.sk-label-container:hover .sk-estimator-doc-link:hover,\n",
       ".sk-estimator-doc-link:hover {\n",
       "  /* unfitted */\n",
       "  background-color: var(--sklearn-color-unfitted-level-3);\n",
       "  color: var(--sklearn-color-background);\n",
       "  text-decoration: none;\n",
       "}\n",
       "\n",
       "div.sk-estimator.fitted:hover .sk-estimator-doc-link.fitted:hover,\n",
       ".sk-estimator-doc-link.fitted:hover,\n",
       "div.sk-label-container:hover .sk-estimator-doc-link.fitted:hover,\n",
       ".sk-estimator-doc-link.fitted:hover {\n",
       "  /* fitted */\n",
       "  background-color: var(--sklearn-color-fitted-level-3);\n",
       "  color: var(--sklearn-color-background);\n",
       "  text-decoration: none;\n",
       "}\n",
       "\n",
       "/* Span, style for the box shown on hovering the info icon */\n",
       ".sk-estimator-doc-link span {\n",
       "  display: none;\n",
       "  z-index: 9999;\n",
       "  position: relative;\n",
       "  font-weight: normal;\n",
       "  right: .2ex;\n",
       "  padding: .5ex;\n",
       "  margin: .5ex;\n",
       "  width: min-content;\n",
       "  min-width: 20ex;\n",
       "  max-width: 50ex;\n",
       "  color: var(--sklearn-color-text);\n",
       "  box-shadow: 2pt 2pt 4pt #999;\n",
       "  /* unfitted */\n",
       "  background: var(--sklearn-color-unfitted-level-0);\n",
       "  border: .5pt solid var(--sklearn-color-unfitted-level-3);\n",
       "}\n",
       "\n",
       ".sk-estimator-doc-link.fitted span {\n",
       "  /* fitted */\n",
       "  background: var(--sklearn-color-fitted-level-0);\n",
       "  border: var(--sklearn-color-fitted-level-3);\n",
       "}\n",
       "\n",
       ".sk-estimator-doc-link:hover span {\n",
       "  display: block;\n",
       "}\n",
       "\n",
       "/* \"?\"-specific style due to the `<a>` HTML tag */\n",
       "\n",
       "#sk-container-id-3 a.estimator_doc_link {\n",
       "  float: right;\n",
       "  font-size: 1rem;\n",
       "  line-height: 1em;\n",
       "  font-family: monospace;\n",
       "  background-color: var(--sklearn-color-background);\n",
       "  border-radius: 1rem;\n",
       "  height: 1rem;\n",
       "  width: 1rem;\n",
       "  text-decoration: none;\n",
       "  /* unfitted */\n",
       "  color: var(--sklearn-color-unfitted-level-1);\n",
       "  border: var(--sklearn-color-unfitted-level-1) 1pt solid;\n",
       "}\n",
       "\n",
       "#sk-container-id-3 a.estimator_doc_link.fitted {\n",
       "  /* fitted */\n",
       "  border: var(--sklearn-color-fitted-level-1) 1pt solid;\n",
       "  color: var(--sklearn-color-fitted-level-1);\n",
       "}\n",
       "\n",
       "/* On hover */\n",
       "#sk-container-id-3 a.estimator_doc_link:hover {\n",
       "  /* unfitted */\n",
       "  background-color: var(--sklearn-color-unfitted-level-3);\n",
       "  color: var(--sklearn-color-background);\n",
       "  text-decoration: none;\n",
       "}\n",
       "\n",
       "#sk-container-id-3 a.estimator_doc_link.fitted:hover {\n",
       "  /* fitted */\n",
       "  background-color: var(--sklearn-color-fitted-level-3);\n",
       "}\n",
       "</style><div id=\"sk-container-id-3\" class=\"sk-top-container\"><div class=\"sk-text-repr-fallback\"><pre>RandomForestClassifier(random_state=42)</pre><b>In a Jupyter environment, please rerun this cell to show the HTML representation or trust the notebook. <br />On GitHub, the HTML representation is unable to render, please try loading this page with nbviewer.org.</b></div><div class=\"sk-container\" hidden><div class=\"sk-item\"><div class=\"sk-estimator fitted sk-toggleable\"><input class=\"sk-toggleable__control sk-hidden--visually\" id=\"sk-estimator-id-3\" type=\"checkbox\" checked><label for=\"sk-estimator-id-3\" class=\"sk-toggleable__label fitted sk-toggleable__label-arrow\"><div><div>RandomForestClassifier</div></div><div><a class=\"sk-estimator-doc-link fitted\" rel=\"noreferrer\" target=\"_blank\" href=\"https://scikit-learn.org/1.6/modules/generated/sklearn.ensemble.RandomForestClassifier.html\">?<span>Documentation for RandomForestClassifier</span></a><span class=\"sk-estimator-doc-link fitted\">i<span>Fitted</span></span></div></label><div class=\"sk-toggleable__content fitted\"><pre>RandomForestClassifier(random_state=42)</pre></div> </div></div></div></div>"
      ],
      "text/plain": [
       "RandomForestClassifier(random_state=42)"
      ]
     },
     "execution_count": 53,
     "metadata": {},
     "output_type": "execute_result"
    }
   ],
   "source": [
    "# Train a Random Forest classifier\n",
    "clf = RandomForestClassifier(n_estimators=100, random_state=42)\n",
    "clf.fit(X_train[:100000], y_train[:100000])"
   ]
  },
  {
   "cell_type": "markdown",
   "id": "2d09d65d",
   "metadata": {},
   "source": [
    "## Evaluate Model"
   ]
  },
  {
   "cell_type": "code",
   "execution_count": null,
   "id": "83fd9062",
   "metadata": {},
   "outputs": [
    {
     "name": "stdout",
     "output_type": "stream",
     "text": [
      "              precision    recall  f1-score   support\n",
      "\n",
      "           0       1.00      0.85      0.92     30284\n",
      "           1       0.90      1.00      0.95     40455\n",
      "\n",
      "    accuracy                           0.94     70739\n",
      "   macro avg       0.95      0.93      0.93     70739\n",
      "weighted avg       0.94      0.94      0.94     70739\n",
      "\n",
      "ROC AUC Score: 0.9572529520359326\n"
     ]
    }
   ],
   "source": [
    "y_pred = clf.predict(X_test)\n",
    "y_prob = clf.predict_proba(X_test)[:, 1]\n",
    "print(classification_report(y_test, y_pred))\n",
    "print(\"ROC AUC Score:\", roc_auc_score(y_test, y_prob))"
   ]
  },
  {
   "cell_type": "code",
   "execution_count": null,
   "id": "50aef0e4",
   "metadata": {},
   "outputs": [],
   "source": []
  }
 ],
 "metadata": {
  "kernelspec": {
   "display_name": "phisherman",
   "language": "python",
   "name": "python3"
  },
  "language_info": {
   "codemirror_mode": {
    "name": "ipython",
    "version": 3
   },
   "file_extension": ".py",
   "mimetype": "text/x-python",
   "name": "python",
   "nbconvert_exporter": "python",
   "pygments_lexer": "ipython3",
   "version": "3.10.16"
  }
 },
 "nbformat": 4,
 "nbformat_minor": 5
}

{
 "cells": [
  {
   "cell_type": "markdown",
   "id": "93198c0994843f28",
   "metadata": {},
   "source": [
    "# Experimentation of Detecting Phishing Links\n",
    "\n",
    "\n",
    "\n",
    "```bash\n",
    "conda create --name phisherman python=3.10 -y\n",
    "conda activate phisherman\n",
    "pip3 install numpy==1.26.4 pandas matplotlib scikit-learn seaborn evaluate\n",
    "conda install -c conda-forge cudatoolkit=11.2 cudnn=8.1.0 -y\n",
    "python -m pip install \"tensorflow<2.11\"\n",
    "pip3 install transformers[torch]\n",
    "```"
   ]
  },
  {
   "cell_type": "markdown",
   "id": "4c656f5c",
   "metadata": {},
   "source": [
    "## Dataset Things\n",
    "\n",
    "Dataset:\n",
    "- https://data.mendeley.com/datasets/vfszbj9b36/1\n",
    "- https://archive.ics.uci.edu/dataset/967/phiusiil+phishing+url+dataset\n",
    "- https://www.kaggle.com/datasets/harisudhan411/phishing-and-legitimate-urls\n",
    "- https://www.kaggle.com/datasets/taruntiwarihp/phishing-site-urls\n",
    "- https://www.kaggle.com/datasets/sid321axn/malicious-urls-dataset (not even) - replaced with https://www.kaggle.com/datasets/joebeachcapital/phishing-urls\n",
    "- https://www.kaggle.com/datasets/shashwatwork/web-page-phishing-detection-dataset"
   ]
  },
  {
   "cell_type": "code",
   "execution_count": 1,
   "id": "initial_id",
   "metadata": {
    "ExecuteTime": {
     "end_time": "2025-02-20T02:32:53.653755Z",
     "start_time": "2025-02-20T02:32:53.081480Z"
    },
    "collapsed": true,
    "jupyter": {
     "outputs_hidden": true
    }
   },
   "outputs": [],
   "source": [
    "import numpy as np\n",
    "import pandas as pd\n",
    "import matplotlib.pyplot as plt\n",
    "# from sklearn.feature_extraction.text import CountVectorizer\n",
    "from sklearn.model_selection import train_test_split\n",
    "# from sklearn.ensemble import RandomForestClassifier\n",
    "# from sklearn.metrics import classification_report, roc_auc_score\n",
    "from sklearn.metrics import (\n",
    "    precision_score,\n",
    "    recall_score,\n",
    "    f1_score,\n",
    "    accuracy_score,\n",
    ")\n",
    "\n",
    "import tensorflow as tf\n",
    "from tensorflow.keras.preprocessing.text import Tokenizer\n",
    "from tensorflow.keras.preprocessing.sequence import pad_sequences\n",
    "from tensorflow.keras.layers import (\n",
    "    Input,\n",
    "    Embedding,\n",
    "    Conv1D,\n",
    "    GlobalMaxPooling1D,\n",
    "    Dense,\n",
    "    Dropout,\n",
    "    Concatenate,\n",
    "    BatchNormalization,\n",
    "    Bidirectional,\n",
    "    LeakyReLU,\n",
    ")\n",
    "from tensorflow.keras.models import Model\n",
    "from tensorflow.keras.layers import LSTM\n",
    "\n",
    "import os\n",
    "import requests\n",
    "import zipfile\n",
    "import os"
   ]
  },
  {
   "cell_type": "code",
   "execution_count": 2,
   "id": "4829c142ac17e35",
   "metadata": {
    "jupyter": {
     "is_executing": true
    }
   },
   "outputs": [],
   "source": [
    "def get_dataset():\n",
    "    \"\"\"\n",
    "    Creates a folder named 'dataset' if it doesn't exist.\n",
    "    :return:\n",
    "        None\n",
    "    \"\"\"\n",
    "    dest_folder_name = 'dataset'\n",
    "    dest_csv_name = 'phishing_data_num_1.csv'\n",
    "    csv_link = 'https://archive.ics.uci.edu/static/public/967/phiusiil+phishing+url+dataset.zip'\n",
    "\n",
    "    dest_folder_path = os.path.join(os.getcwd(), dest_folder_name)\n",
    "    dest_file_path = os.path.join(dest_folder_path, dest_csv_name)\n",
    "    dest_zip_save_path = os.path.join(dest_folder_name, \"dataset.zip\")\n",
    "\n",
    "\n",
    "    if not os.path.exists(dest_file_path):\n",
    "        # Create folder\n",
    "        os.makedirs(dest_folder_path)\n",
    "        # Download zip file\n",
    "        zip_folder = requests.get(csv_link, stream=True)\n",
    "        zip_folder.raise_for_status()\n",
    "\n",
    "        with open(dest_zip_save_path, 'wb') as f:\n",
    "            for chunk in zip_folder.iter_content(chunk_size=8192):\n",
    "                f.write(chunk)\n",
    "        print(f\"Zip file downloaded to: {dest_zip_save_path}\")\n",
    "\n",
    "        # Extract the zip file\n",
    "        with zipfile.ZipFile(dest_zip_save_path, 'r') as zip_ref:\n",
    "            zip_ref.extractall(dest_folder_path)\n",
    "        print(f\"Zip file extracted to: {dest_folder_path}\")\n",
    "\n",
    "        # Rename csv file to csv_name variable\n",
    "        old_filepath = os.path.join(dest_folder_path, 'PhiUSIIL_Phishing_URL_Dataset.csv')\n",
    "        os.rename(old_filepath, dest_file_path)\n",
    "        print(f\"File renamed to '{dest_file_path}'\")\n",
    "        \n",
    "get_dataset()"
   ]
  },
  {
   "cell_type": "code",
   "execution_count": 3,
   "id": "52354d701214468e",
   "metadata": {},
   "outputs": [
    {
     "data": {
      "text/html": [
       "<div>\n",
       "<style scoped>\n",
       "    .dataframe tbody tr th:only-of-type {\n",
       "        vertical-align: middle;\n",
       "    }\n",
       "\n",
       "    .dataframe tbody tr th {\n",
       "        vertical-align: top;\n",
       "    }\n",
       "\n",
       "    .dataframe thead th {\n",
       "        text-align: right;\n",
       "    }\n",
       "</style>\n",
       "<table border=\"1\" class=\"dataframe\">\n",
       "  <thead>\n",
       "    <tr style=\"text-align: right;\">\n",
       "      <th></th>\n",
       "      <th>FILENAME</th>\n",
       "      <th>URL</th>\n",
       "      <th>URLLength</th>\n",
       "      <th>Domain</th>\n",
       "      <th>DomainLength</th>\n",
       "      <th>IsDomainIP</th>\n",
       "      <th>TLD</th>\n",
       "      <th>URLSimilarityIndex</th>\n",
       "      <th>CharContinuationRate</th>\n",
       "      <th>TLDLegitimateProb</th>\n",
       "      <th>...</th>\n",
       "      <th>Pay</th>\n",
       "      <th>Crypto</th>\n",
       "      <th>HasCopyrightInfo</th>\n",
       "      <th>NoOfImage</th>\n",
       "      <th>NoOfCSS</th>\n",
       "      <th>NoOfJS</th>\n",
       "      <th>NoOfSelfRef</th>\n",
       "      <th>NoOfEmptyRef</th>\n",
       "      <th>NoOfExternalRef</th>\n",
       "      <th>label</th>\n",
       "    </tr>\n",
       "  </thead>\n",
       "  <tbody>\n",
       "    <tr>\n",
       "      <th>0</th>\n",
       "      <td>521848.txt</td>\n",
       "      <td>https://www.southbankmosaics.com</td>\n",
       "      <td>31</td>\n",
       "      <td>www.southbankmosaics.com</td>\n",
       "      <td>24</td>\n",
       "      <td>0</td>\n",
       "      <td>com</td>\n",
       "      <td>100.0</td>\n",
       "      <td>1.000000</td>\n",
       "      <td>0.522907</td>\n",
       "      <td>...</td>\n",
       "      <td>0</td>\n",
       "      <td>0</td>\n",
       "      <td>1</td>\n",
       "      <td>34</td>\n",
       "      <td>20</td>\n",
       "      <td>28</td>\n",
       "      <td>119</td>\n",
       "      <td>0</td>\n",
       "      <td>124</td>\n",
       "      <td>1</td>\n",
       "    </tr>\n",
       "    <tr>\n",
       "      <th>1</th>\n",
       "      <td>31372.txt</td>\n",
       "      <td>https://www.uni-mainz.de</td>\n",
       "      <td>23</td>\n",
       "      <td>www.uni-mainz.de</td>\n",
       "      <td>16</td>\n",
       "      <td>0</td>\n",
       "      <td>de</td>\n",
       "      <td>100.0</td>\n",
       "      <td>0.666667</td>\n",
       "      <td>0.032650</td>\n",
       "      <td>...</td>\n",
       "      <td>0</td>\n",
       "      <td>0</td>\n",
       "      <td>1</td>\n",
       "      <td>50</td>\n",
       "      <td>9</td>\n",
       "      <td>8</td>\n",
       "      <td>39</td>\n",
       "      <td>0</td>\n",
       "      <td>217</td>\n",
       "      <td>1</td>\n",
       "    </tr>\n",
       "    <tr>\n",
       "      <th>2</th>\n",
       "      <td>597387.txt</td>\n",
       "      <td>https://www.voicefmradio.co.uk</td>\n",
       "      <td>29</td>\n",
       "      <td>www.voicefmradio.co.uk</td>\n",
       "      <td>22</td>\n",
       "      <td>0</td>\n",
       "      <td>uk</td>\n",
       "      <td>100.0</td>\n",
       "      <td>0.866667</td>\n",
       "      <td>0.028555</td>\n",
       "      <td>...</td>\n",
       "      <td>0</td>\n",
       "      <td>0</td>\n",
       "      <td>1</td>\n",
       "      <td>10</td>\n",
       "      <td>2</td>\n",
       "      <td>7</td>\n",
       "      <td>42</td>\n",
       "      <td>2</td>\n",
       "      <td>5</td>\n",
       "      <td>1</td>\n",
       "    </tr>\n",
       "    <tr>\n",
       "      <th>3</th>\n",
       "      <td>554095.txt</td>\n",
       "      <td>https://www.sfnmjournal.com</td>\n",
       "      <td>26</td>\n",
       "      <td>www.sfnmjournal.com</td>\n",
       "      <td>19</td>\n",
       "      <td>0</td>\n",
       "      <td>com</td>\n",
       "      <td>100.0</td>\n",
       "      <td>1.000000</td>\n",
       "      <td>0.522907</td>\n",
       "      <td>...</td>\n",
       "      <td>1</td>\n",
       "      <td>1</td>\n",
       "      <td>1</td>\n",
       "      <td>3</td>\n",
       "      <td>27</td>\n",
       "      <td>15</td>\n",
       "      <td>22</td>\n",
       "      <td>1</td>\n",
       "      <td>31</td>\n",
       "      <td>1</td>\n",
       "    </tr>\n",
       "    <tr>\n",
       "      <th>4</th>\n",
       "      <td>151578.txt</td>\n",
       "      <td>https://www.rewildingargentina.org</td>\n",
       "      <td>33</td>\n",
       "      <td>www.rewildingargentina.org</td>\n",
       "      <td>26</td>\n",
       "      <td>0</td>\n",
       "      <td>org</td>\n",
       "      <td>100.0</td>\n",
       "      <td>1.000000</td>\n",
       "      <td>0.079963</td>\n",
       "      <td>...</td>\n",
       "      <td>1</td>\n",
       "      <td>0</td>\n",
       "      <td>1</td>\n",
       "      <td>244</td>\n",
       "      <td>15</td>\n",
       "      <td>34</td>\n",
       "      <td>72</td>\n",
       "      <td>1</td>\n",
       "      <td>85</td>\n",
       "      <td>1</td>\n",
       "    </tr>\n",
       "  </tbody>\n",
       "</table>\n",
       "<p>5 rows × 56 columns</p>\n",
       "</div>"
      ],
      "text/plain": [
       "     FILENAME                                 URL  URLLength  \\\n",
       "0  521848.txt    https://www.southbankmosaics.com         31   \n",
       "1   31372.txt            https://www.uni-mainz.de         23   \n",
       "2  597387.txt      https://www.voicefmradio.co.uk         29   \n",
       "3  554095.txt         https://www.sfnmjournal.com         26   \n",
       "4  151578.txt  https://www.rewildingargentina.org         33   \n",
       "\n",
       "                       Domain  DomainLength  IsDomainIP  TLD  \\\n",
       "0    www.southbankmosaics.com            24           0  com   \n",
       "1            www.uni-mainz.de            16           0   de   \n",
       "2      www.voicefmradio.co.uk            22           0   uk   \n",
       "3         www.sfnmjournal.com            19           0  com   \n",
       "4  www.rewildingargentina.org            26           0  org   \n",
       "\n",
       "   URLSimilarityIndex  CharContinuationRate  TLDLegitimateProb  ...  Pay  \\\n",
       "0               100.0              1.000000           0.522907  ...    0   \n",
       "1               100.0              0.666667           0.032650  ...    0   \n",
       "2               100.0              0.866667           0.028555  ...    0   \n",
       "3               100.0              1.000000           0.522907  ...    1   \n",
       "4               100.0              1.000000           0.079963  ...    1   \n",
       "\n",
       "   Crypto  HasCopyrightInfo  NoOfImage  NoOfCSS  NoOfJS  NoOfSelfRef  \\\n",
       "0       0                 1         34       20      28          119   \n",
       "1       0                 1         50        9       8           39   \n",
       "2       0                 1         10        2       7           42   \n",
       "3       1                 1          3       27      15           22   \n",
       "4       0                 1        244       15      34           72   \n",
       "\n",
       "   NoOfEmptyRef  NoOfExternalRef  label  \n",
       "0             0              124      1  \n",
       "1             0              217      1  \n",
       "2             2                5      1  \n",
       "3             1               31      1  \n",
       "4             1               85      1  \n",
       "\n",
       "[5 rows x 56 columns]"
      ]
     },
     "execution_count": 3,
     "metadata": {},
     "output_type": "execute_result"
    }
   ],
   "source": [
    "phishing_df = pd.read_csv(\"dataset/phishing_data_num_1.csv\")\n",
    "phishing_df.head()"
   ]
  },
  {
   "cell_type": "code",
   "execution_count": 4,
   "id": "9f28ed30",
   "metadata": {},
   "outputs": [
    {
     "data": {
      "text/html": [
       "<div>\n",
       "<style scoped>\n",
       "    .dataframe tbody tr th:only-of-type {\n",
       "        vertical-align: middle;\n",
       "    }\n",
       "\n",
       "    .dataframe tbody tr th {\n",
       "        vertical-align: top;\n",
       "    }\n",
       "\n",
       "    .dataframe thead th {\n",
       "        text-align: right;\n",
       "    }\n",
       "</style>\n",
       "<table border=\"1\" class=\"dataframe\">\n",
       "  <thead>\n",
       "    <tr style=\"text-align: right;\">\n",
       "      <th></th>\n",
       "      <th>URL</th>\n",
       "      <th>label</th>\n",
       "    </tr>\n",
       "  </thead>\n",
       "  <tbody>\n",
       "    <tr>\n",
       "      <th>0</th>\n",
       "      <td>https://www.southbankmosaics.com</td>\n",
       "      <td>1</td>\n",
       "    </tr>\n",
       "    <tr>\n",
       "      <th>1</th>\n",
       "      <td>https://www.uni-mainz.de</td>\n",
       "      <td>1</td>\n",
       "    </tr>\n",
       "    <tr>\n",
       "      <th>2</th>\n",
       "      <td>https://www.voicefmradio.co.uk</td>\n",
       "      <td>1</td>\n",
       "    </tr>\n",
       "    <tr>\n",
       "      <th>3</th>\n",
       "      <td>https://www.sfnmjournal.com</td>\n",
       "      <td>1</td>\n",
       "    </tr>\n",
       "    <tr>\n",
       "      <th>4</th>\n",
       "      <td>https://www.rewildingargentina.org</td>\n",
       "      <td>1</td>\n",
       "    </tr>\n",
       "  </tbody>\n",
       "</table>\n",
       "</div>"
      ],
      "text/plain": [
       "                                  URL  label\n",
       "0    https://www.southbankmosaics.com      1\n",
       "1            https://www.uni-mainz.de      1\n",
       "2      https://www.voicefmradio.co.uk      1\n",
       "3         https://www.sfnmjournal.com      1\n",
       "4  https://www.rewildingargentina.org      1"
      ]
     },
     "execution_count": 4,
     "metadata": {},
     "output_type": "execute_result"
    }
   ],
   "source": [
    "phishing_df = phishing_df[[\"URL\", \"label\"]]\n",
    "phishing_df.head()"
   ]
  },
  {
   "cell_type": "code",
   "execution_count": 5,
   "id": "c7266d76",
   "metadata": {},
   "outputs": [
    {
     "data": {
      "text/plain": [
       "235795"
      ]
     },
     "execution_count": 5,
     "metadata": {},
     "output_type": "execute_result"
    }
   ],
   "source": [
    "len(phishing_df)"
   ]
  },
  {
   "cell_type": "code",
   "execution_count": 6,
   "id": "bda5fc8a",
   "metadata": {},
   "outputs": [
    {
     "data": {
      "text/html": [
       "<div>\n",
       "<style scoped>\n",
       "    .dataframe tbody tr th:only-of-type {\n",
       "        vertical-align: middle;\n",
       "    }\n",
       "\n",
       "    .dataframe tbody tr th {\n",
       "        vertical-align: top;\n",
       "    }\n",
       "\n",
       "    .dataframe thead th {\n",
       "        text-align: right;\n",
       "    }\n",
       "</style>\n",
       "<table border=\"1\" class=\"dataframe\">\n",
       "  <thead>\n",
       "    <tr style=\"text-align: right;\">\n",
       "      <th></th>\n",
       "      <th>URL</th>\n",
       "      <th>label</th>\n",
       "    </tr>\n",
       "  </thead>\n",
       "  <tbody>\n",
       "    <tr>\n",
       "      <th>0</th>\n",
       "      <td>https://www.google.com</td>\n",
       "      <td>0</td>\n",
       "    </tr>\n",
       "    <tr>\n",
       "      <th>1</th>\n",
       "      <td>https://www.youtube.com</td>\n",
       "      <td>0</td>\n",
       "    </tr>\n",
       "    <tr>\n",
       "      <th>2</th>\n",
       "      <td>https://www.facebook.com</td>\n",
       "      <td>0</td>\n",
       "    </tr>\n",
       "    <tr>\n",
       "      <th>3</th>\n",
       "      <td>https://www.baidu.com</td>\n",
       "      <td>0</td>\n",
       "    </tr>\n",
       "    <tr>\n",
       "      <th>4</th>\n",
       "      <td>https://www.wikipedia.org</td>\n",
       "      <td>0</td>\n",
       "    </tr>\n",
       "  </tbody>\n",
       "</table>\n",
       "</div>"
      ],
      "text/plain": [
       "                         URL  label\n",
       "0     https://www.google.com      0\n",
       "1    https://www.youtube.com      0\n",
       "2   https://www.facebook.com      0\n",
       "3      https://www.baidu.com      0\n",
       "4  https://www.wikipedia.org      0"
      ]
     },
     "execution_count": 6,
     "metadata": {},
     "output_type": "execute_result"
    }
   ],
   "source": [
    "phishing_df2 = pd.read_csv(\"dataset/dataset_num_2.csv\")\n",
    "phishing_df2[\"type\"] = phishing_df2[\"type\"].apply(\n",
    "    lambda x: 0 if x == \"legitimate\" else 1\n",
    ")\n",
    "phishing_df2.columns = ['URL', 'label']\n",
    "phishing_df2.head()"
   ]
  },
  {
   "cell_type": "code",
   "execution_count": 7,
   "id": "6289e690",
   "metadata": {},
   "outputs": [
    {
     "data": {
      "text/plain": [
       "450176"
      ]
     },
     "execution_count": 7,
     "metadata": {},
     "output_type": "execute_result"
    }
   ],
   "source": [
    "len(phishing_df2)"
   ]
  },
  {
   "cell_type": "code",
   "execution_count": 8,
   "id": "a5042ed2",
   "metadata": {},
   "outputs": [
    {
     "data": {
      "text/html": [
       "<div>\n",
       "<style scoped>\n",
       "    .dataframe tbody tr th:only-of-type {\n",
       "        vertical-align: middle;\n",
       "    }\n",
       "\n",
       "    .dataframe tbody tr th {\n",
       "        vertical-align: top;\n",
       "    }\n",
       "\n",
       "    .dataframe thead th {\n",
       "        text-align: right;\n",
       "    }\n",
       "</style>\n",
       "<table border=\"1\" class=\"dataframe\">\n",
       "  <thead>\n",
       "    <tr style=\"text-align: right;\">\n",
       "      <th></th>\n",
       "      <th>URL</th>\n",
       "      <th>label</th>\n",
       "    </tr>\n",
       "  </thead>\n",
       "  <tbody>\n",
       "    <tr>\n",
       "      <th>0</th>\n",
       "      <td>0000111servicehelpdesk.godaddysites.com</td>\n",
       "      <td>0</td>\n",
       "    </tr>\n",
       "    <tr>\n",
       "      <th>1</th>\n",
       "      <td>000011accesswebform.godaddysites.com</td>\n",
       "      <td>0</td>\n",
       "    </tr>\n",
       "    <tr>\n",
       "      <th>2</th>\n",
       "      <td>00003.online</td>\n",
       "      <td>0</td>\n",
       "    </tr>\n",
       "    <tr>\n",
       "      <th>3</th>\n",
       "      <td>0009servicedeskowa.godaddysites.com</td>\n",
       "      <td>0</td>\n",
       "    </tr>\n",
       "    <tr>\n",
       "      <th>4</th>\n",
       "      <td>000n38p.wcomhost.com</td>\n",
       "      <td>0</td>\n",
       "    </tr>\n",
       "  </tbody>\n",
       "</table>\n",
       "</div>"
      ],
      "text/plain": [
       "                                       URL  label\n",
       "0  0000111servicehelpdesk.godaddysites.com      0\n",
       "1     000011accesswebform.godaddysites.com      0\n",
       "2                             00003.online      0\n",
       "3      0009servicedeskowa.godaddysites.com      0\n",
       "4                     000n38p.wcomhost.com      0"
      ]
     },
     "execution_count": 8,
     "metadata": {},
     "output_type": "execute_result"
    }
   ],
   "source": [
    "phishing_df3 = pd.read_csv(\"dataset/dataset_num_3.csv\")\n",
    "phishing_df3.columns = [\"URL\", \"label\"]\n",
    "phishing_df3.head()"
   ]
  },
  {
   "cell_type": "code",
   "execution_count": 9,
   "id": "50fe26b0",
   "metadata": {},
   "outputs": [
    {
     "data": {
      "text/html": [
       "<div>\n",
       "<style scoped>\n",
       "    .dataframe tbody tr th:only-of-type {\n",
       "        vertical-align: middle;\n",
       "    }\n",
       "\n",
       "    .dataframe tbody tr th {\n",
       "        vertical-align: top;\n",
       "    }\n",
       "\n",
       "    .dataframe thead th {\n",
       "        text-align: right;\n",
       "    }\n",
       "</style>\n",
       "<table border=\"1\" class=\"dataframe\">\n",
       "  <thead>\n",
       "    <tr style=\"text-align: right;\">\n",
       "      <th></th>\n",
       "      <th>URL</th>\n",
       "      <th>label</th>\n",
       "    </tr>\n",
       "  </thead>\n",
       "  <tbody>\n",
       "    <tr>\n",
       "      <th>0</th>\n",
       "      <td>nobell.it/70ffb52d079109dca5664cce6f317373782/...</td>\n",
       "      <td>1</td>\n",
       "    </tr>\n",
       "    <tr>\n",
       "      <th>1</th>\n",
       "      <td>www.dghjdgf.com/paypal.co.uk/cycgi-bin/webscrc...</td>\n",
       "      <td>1</td>\n",
       "    </tr>\n",
       "    <tr>\n",
       "      <th>2</th>\n",
       "      <td>serviciosbys.com/paypal.cgi.bin.get-into.herf....</td>\n",
       "      <td>1</td>\n",
       "    </tr>\n",
       "    <tr>\n",
       "      <th>3</th>\n",
       "      <td>mail.printakid.com/www.online.americanexpress....</td>\n",
       "      <td>1</td>\n",
       "    </tr>\n",
       "    <tr>\n",
       "      <th>4</th>\n",
       "      <td>thewhiskeydregs.com/wp-content/themes/widescre...</td>\n",
       "      <td>1</td>\n",
       "    </tr>\n",
       "  </tbody>\n",
       "</table>\n",
       "</div>"
      ],
      "text/plain": [
       "                                                 URL  label\n",
       "0  nobell.it/70ffb52d079109dca5664cce6f317373782/...      1\n",
       "1  www.dghjdgf.com/paypal.co.uk/cycgi-bin/webscrc...      1\n",
       "2  serviciosbys.com/paypal.cgi.bin.get-into.herf....      1\n",
       "3  mail.printakid.com/www.online.americanexpress....      1\n",
       "4  thewhiskeydregs.com/wp-content/themes/widescre...      1"
      ]
     },
     "execution_count": 9,
     "metadata": {},
     "output_type": "execute_result"
    }
   ],
   "source": [
    "phishing_df4 = pd.read_csv(\"dataset/phishing_data_num_4.csv\")\n",
    "phishing_df4.columns = [\"URL\", \"label\"]\n",
    "phishing_df4[\"label\"] = phishing_df4[\"label\"].apply(\n",
    "    lambda x: 1 if x == \"bad\" else 0\n",
    ")\n",
    "phishing_df4.head()"
   ]
  },
  {
   "cell_type": "code",
   "execution_count": 10,
   "id": "43b5db0e",
   "metadata": {},
   "outputs": [
    {
     "data": {
      "text/plain": [
       "label\n",
       "1    156422\n",
       "Name: count, dtype: int64"
      ]
     },
     "execution_count": 10,
     "metadata": {},
     "output_type": "execute_result"
    }
   ],
   "source": [
    "# Bad only\n",
    "phishing_df4_bad = phishing_df4[phishing_df4['label'] == 1]\n",
    "phishing_df4_bad['label'].value_counts()"
   ]
  },
  {
   "cell_type": "code",
   "execution_count": 11,
   "id": "9687eb9f",
   "metadata": {},
   "outputs": [
    {
     "name": "stderr",
     "output_type": "stream",
     "text": [
      "C:\\Users\\lelop\\AppData\\Local\\Temp\\ipykernel_17332\\378942264.py:1: DtypeWarning: Columns (1,2,3,11,12) have mixed types. Specify dtype option on import or set low_memory=False.\n",
      "  phishing_df5 = pd.read_csv(\n"
     ]
    },
    {
     "data": {
      "text/html": [
       "<div>\n",
       "<style scoped>\n",
       "    .dataframe tbody tr th:only-of-type {\n",
       "        vertical-align: middle;\n",
       "    }\n",
       "\n",
       "    .dataframe tbody tr th {\n",
       "        vertical-align: top;\n",
       "    }\n",
       "\n",
       "    .dataframe thead th {\n",
       "        text-align: right;\n",
       "    }\n",
       "</style>\n",
       "<table border=\"1\" class=\"dataframe\">\n",
       "  <thead>\n",
       "    <tr style=\"text-align: right;\">\n",
       "      <th></th>\n",
       "      <th>URL</th>\n",
       "      <th>label</th>\n",
       "    </tr>\n",
       "  </thead>\n",
       "  <tbody>\n",
       "    <tr>\n",
       "      <th>0</th>\n",
       "      <td>nobell.it/70ffb52d079109dca5664cce6f317373782/...</td>\n",
       "      <td>1</td>\n",
       "    </tr>\n",
       "    <tr>\n",
       "      <th>1</th>\n",
       "      <td>www.dghjdgf.com/paypal.co.uk/cycgi-bin/webscrc...</td>\n",
       "      <td>1</td>\n",
       "    </tr>\n",
       "    <tr>\n",
       "      <th>2</th>\n",
       "      <td>serviciosbys.com/paypal.cgi.bin.get-into.herf....</td>\n",
       "      <td>1</td>\n",
       "    </tr>\n",
       "    <tr>\n",
       "      <th>3</th>\n",
       "      <td>mail.printakid.com/www.online.americanexpress....</td>\n",
       "      <td>1</td>\n",
       "    </tr>\n",
       "    <tr>\n",
       "      <th>4</th>\n",
       "      <td>thewhiskeydregs.com/wp-content/themes/widescre...</td>\n",
       "      <td>1</td>\n",
       "    </tr>\n",
       "  </tbody>\n",
       "</table>\n",
       "</div>"
      ],
      "text/plain": [
       "                                                 URL  label\n",
       "0  nobell.it/70ffb52d079109dca5664cce6f317373782/...      1\n",
       "1  www.dghjdgf.com/paypal.co.uk/cycgi-bin/webscrc...      1\n",
       "2  serviciosbys.com/paypal.cgi.bin.get-into.herf....      1\n",
       "3  mail.printakid.com/www.online.americanexpress....      1\n",
       "4  thewhiskeydregs.com/wp-content/themes/widescre...      1"
      ]
     },
     "execution_count": 11,
     "metadata": {},
     "output_type": "execute_result"
    }
   ],
   "source": [
    "phishing_df5 = pd.read_csv(\n",
    "    \"dataset/dataset_num 5.csv\", encoding=\"ISO-8859-1\", on_bad_lines=\"skip\"\n",
    ")\n",
    "phishing_df5 = phishing_df5[['domain', 'label']].dropna()\n",
    "phishing_df5.columns = [\"URL\", \"label\"]\n",
    "phishing_df5[\"label\"] = phishing_df5[\"label\"].astype(int)\n",
    "phishing_df5.head()"
   ]
  },
  {
   "cell_type": "code",
   "execution_count": 12,
   "id": "69b1de3c",
   "metadata": {},
   "outputs": [
    {
     "data": {
      "text/html": [
       "<div>\n",
       "<style scoped>\n",
       "    .dataframe tbody tr th:only-of-type {\n",
       "        vertical-align: middle;\n",
       "    }\n",
       "\n",
       "    .dataframe tbody tr th {\n",
       "        vertical-align: top;\n",
       "    }\n",
       "\n",
       "    .dataframe thead th {\n",
       "        text-align: right;\n",
       "    }\n",
       "</style>\n",
       "<table border=\"1\" class=\"dataframe\">\n",
       "  <thead>\n",
       "    <tr style=\"text-align: right;\">\n",
       "      <th></th>\n",
       "      <th>URL</th>\n",
       "      <th>label</th>\n",
       "    </tr>\n",
       "  </thead>\n",
       "  <tbody>\n",
       "    <tr>\n",
       "      <th>0</th>\n",
       "      <td>http://www.crestonwood.com/router.php</td>\n",
       "      <td>0</td>\n",
       "    </tr>\n",
       "    <tr>\n",
       "      <th>1</th>\n",
       "      <td>http://shadetreetechnology.com/V4/validation/a...</td>\n",
       "      <td>1</td>\n",
       "    </tr>\n",
       "    <tr>\n",
       "      <th>2</th>\n",
       "      <td>https://support-appleld.com.secureupdate.duila...</td>\n",
       "      <td>1</td>\n",
       "    </tr>\n",
       "    <tr>\n",
       "      <th>3</th>\n",
       "      <td>http://rgipt.ac.in</td>\n",
       "      <td>0</td>\n",
       "    </tr>\n",
       "    <tr>\n",
       "      <th>4</th>\n",
       "      <td>http://www.iracing.com/tracks/gateway-motorspo...</td>\n",
       "      <td>0</td>\n",
       "    </tr>\n",
       "  </tbody>\n",
       "</table>\n",
       "</div>"
      ],
      "text/plain": [
       "                                                 URL  label\n",
       "0              http://www.crestonwood.com/router.php      0\n",
       "1  http://shadetreetechnology.com/V4/validation/a...      1\n",
       "2  https://support-appleld.com.secureupdate.duila...      1\n",
       "3                                 http://rgipt.ac.in      0\n",
       "4  http://www.iracing.com/tracks/gateway-motorspo...      0"
      ]
     },
     "execution_count": 12,
     "metadata": {},
     "output_type": "execute_result"
    }
   ],
   "source": [
    "phishing_df6 = pd.read_csv(\"dataset/dataset_phishing num 6.csv\")\n",
    "phishing_df6 = phishing_df6[['url', 'status']]\n",
    "phishing_df6.columns = [\"URL\", \"label\"]\n",
    "phishing_df6[\"label\"] = phishing_df6[\"label\"].apply(\n",
    "    lambda x: 1 if x == \"phishing\" else 0\n",
    ")\n",
    "phishing_df6.head()"
   ]
  },
  {
   "cell_type": "code",
   "execution_count": 13,
   "id": "8f84755c",
   "metadata": {},
   "outputs": [],
   "source": [
    "df_combined = pd.concat(\n",
    "    [\n",
    "        phishing_df,\n",
    "        phishing_df2,\n",
    "        phishing_df3,\n",
    "        phishing_df4_bad,\n",
    "        phishing_df5,\n",
    "        phishing_df6,\n",
    "    ],\n",
    "    ignore_index=True,\n",
    ")"
   ]
  },
  {
   "cell_type": "code",
   "execution_count": 14,
   "id": "b70da7fa",
   "metadata": {},
   "outputs": [],
   "source": [
    "df_combined = df_combined.drop_duplicates(subset=\"URL\", keep=\"last\")"
   ]
  },
  {
   "cell_type": "code",
   "execution_count": 15,
   "id": "9eb5aa05",
   "metadata": {},
   "outputs": [],
   "source": [
    "df_combined.to_csv('./dataset/final_dataset.csv',index=False)"
   ]
  },
  {
   "cell_type": "code",
   "execution_count": 16,
   "id": "3266dac2",
   "metadata": {},
   "outputs": [
    {
     "data": {
      "text/html": [
       "<div>\n",
       "<style scoped>\n",
       "    .dataframe tbody tr th:only-of-type {\n",
       "        vertical-align: middle;\n",
       "    }\n",
       "\n",
       "    .dataframe tbody tr th {\n",
       "        vertical-align: top;\n",
       "    }\n",
       "\n",
       "    .dataframe thead th {\n",
       "        text-align: right;\n",
       "    }\n",
       "</style>\n",
       "<table border=\"1\" class=\"dataframe\">\n",
       "  <thead>\n",
       "    <tr style=\"text-align: right;\">\n",
       "      <th></th>\n",
       "      <th>URL</th>\n",
       "      <th>label</th>\n",
       "    </tr>\n",
       "  </thead>\n",
       "  <tbody>\n",
       "    <tr>\n",
       "      <th>0</th>\n",
       "      <td>https://www.southbankmosaics.com</td>\n",
       "      <td>1</td>\n",
       "    </tr>\n",
       "    <tr>\n",
       "      <th>1</th>\n",
       "      <td>https://www.uni-mainz.de</td>\n",
       "      <td>1</td>\n",
       "    </tr>\n",
       "    <tr>\n",
       "      <th>2</th>\n",
       "      <td>https://www.voicefmradio.co.uk</td>\n",
       "      <td>1</td>\n",
       "    </tr>\n",
       "    <tr>\n",
       "      <th>3</th>\n",
       "      <td>https://www.sfnmjournal.com</td>\n",
       "      <td>1</td>\n",
       "    </tr>\n",
       "    <tr>\n",
       "      <th>4</th>\n",
       "      <td>https://www.rewildingargentina.org</td>\n",
       "      <td>1</td>\n",
       "    </tr>\n",
       "  </tbody>\n",
       "</table>\n",
       "</div>"
      ],
      "text/plain": [
       "                                  URL  label\n",
       "0    https://www.southbankmosaics.com      1\n",
       "1            https://www.uni-mainz.de      1\n",
       "2      https://www.voicefmradio.co.uk      1\n",
       "3         https://www.sfnmjournal.com      1\n",
       "4  https://www.rewildingargentina.org      1"
      ]
     },
     "execution_count": 16,
     "metadata": {},
     "output_type": "execute_result"
    }
   ],
   "source": [
    "df_combined.head()"
   ]
  },
  {
   "cell_type": "code",
   "execution_count": 17,
   "id": "b946ab13",
   "metadata": {},
   "outputs": [
    {
     "data": {
      "text/plain": [
       "1481551"
      ]
     },
     "execution_count": 17,
     "metadata": {},
     "output_type": "execute_result"
    }
   ],
   "source": [
    "len(df_combined)"
   ]
  },
  {
   "cell_type": "code",
   "execution_count": 18,
   "id": "c952853c",
   "metadata": {},
   "outputs": [],
   "source": [
    "phishing_df = df_combined"
   ]
  },
  {
   "cell_type": "markdown",
   "id": "365a552b",
   "metadata": {},
   "source": [
    "## Data Exploration"
   ]
  },
  {
   "cell_type": "code",
   "execution_count": 19,
   "id": "acb2bc1e",
   "metadata": {},
   "outputs": [],
   "source": [
    "phishing_df_url_labels = phishing_df[['URL', 'label']]"
   ]
  },
  {
   "cell_type": "code",
   "execution_count": 20,
   "id": "9570ab54",
   "metadata": {},
   "outputs": [
    {
     "data": {
      "text/html": [
       "<div>\n",
       "<style scoped>\n",
       "    .dataframe tbody tr th:only-of-type {\n",
       "        vertical-align: middle;\n",
       "    }\n",
       "\n",
       "    .dataframe tbody tr th {\n",
       "        vertical-align: top;\n",
       "    }\n",
       "\n",
       "    .dataframe thead th {\n",
       "        text-align: right;\n",
       "    }\n",
       "</style>\n",
       "<table border=\"1\" class=\"dataframe\">\n",
       "  <thead>\n",
       "    <tr style=\"text-align: right;\">\n",
       "      <th></th>\n",
       "      <th>URL</th>\n",
       "      <th>label</th>\n",
       "    </tr>\n",
       "  </thead>\n",
       "  <tbody>\n",
       "    <tr>\n",
       "      <th>11</th>\n",
       "      <td>http://www.teramill.com</td>\n",
       "      <td>0</td>\n",
       "    </tr>\n",
       "    <tr>\n",
       "      <th>20</th>\n",
       "      <td>http://www.f0519141.xsph.ru</td>\n",
       "      <td>0</td>\n",
       "    </tr>\n",
       "    <tr>\n",
       "      <th>21</th>\n",
       "      <td>http://www.shprakserf.gq</td>\n",
       "      <td>0</td>\n",
       "    </tr>\n",
       "    <tr>\n",
       "      <th>27</th>\n",
       "      <td>https://service-mitld.firebaseapp.com/</td>\n",
       "      <td>0</td>\n",
       "    </tr>\n",
       "    <tr>\n",
       "      <th>28</th>\n",
       "      <td>http://www.kuradox92.lima-city.de</td>\n",
       "      <td>0</td>\n",
       "    </tr>\n",
       "  </tbody>\n",
       "</table>\n",
       "</div>"
      ],
      "text/plain": [
       "                                       URL  label\n",
       "11                 http://www.teramill.com      0\n",
       "20             http://www.f0519141.xsph.ru      0\n",
       "21                http://www.shprakserf.gq      0\n",
       "27  https://service-mitld.firebaseapp.com/      0\n",
       "28       http://www.kuradox92.lima-city.de      0"
      ]
     },
     "execution_count": 20,
     "metadata": {},
     "output_type": "execute_result"
    }
   ],
   "source": [
    "phishing_df_url_labels[phishing_df_url_labels[\"label\"] == 0].head()"
   ]
  },
  {
   "cell_type": "code",
   "execution_count": 21,
   "id": "4e832c76",
   "metadata": {},
   "outputs": [
    {
     "data": {
      "text/html": [
       "<div>\n",
       "<style scoped>\n",
       "    .dataframe tbody tr th:only-of-type {\n",
       "        vertical-align: middle;\n",
       "    }\n",
       "\n",
       "    .dataframe tbody tr th {\n",
       "        vertical-align: top;\n",
       "    }\n",
       "\n",
       "    .dataframe thead th {\n",
       "        text-align: right;\n",
       "    }\n",
       "</style>\n",
       "<table border=\"1\" class=\"dataframe\">\n",
       "  <thead>\n",
       "    <tr style=\"text-align: right;\">\n",
       "      <th></th>\n",
       "      <th>URL</th>\n",
       "      <th>label</th>\n",
       "    </tr>\n",
       "  </thead>\n",
       "  <tbody>\n",
       "    <tr>\n",
       "      <th>0</th>\n",
       "      <td>https://www.southbankmosaics.com</td>\n",
       "      <td>1</td>\n",
       "    </tr>\n",
       "    <tr>\n",
       "      <th>1</th>\n",
       "      <td>https://www.uni-mainz.de</td>\n",
       "      <td>1</td>\n",
       "    </tr>\n",
       "    <tr>\n",
       "      <th>2</th>\n",
       "      <td>https://www.voicefmradio.co.uk</td>\n",
       "      <td>1</td>\n",
       "    </tr>\n",
       "    <tr>\n",
       "      <th>3</th>\n",
       "      <td>https://www.sfnmjournal.com</td>\n",
       "      <td>1</td>\n",
       "    </tr>\n",
       "    <tr>\n",
       "      <th>4</th>\n",
       "      <td>https://www.rewildingargentina.org</td>\n",
       "      <td>1</td>\n",
       "    </tr>\n",
       "  </tbody>\n",
       "</table>\n",
       "</div>"
      ],
      "text/plain": [
       "                                  URL  label\n",
       "0    https://www.southbankmosaics.com      1\n",
       "1            https://www.uni-mainz.de      1\n",
       "2      https://www.voicefmradio.co.uk      1\n",
       "3         https://www.sfnmjournal.com      1\n",
       "4  https://www.rewildingargentina.org      1"
      ]
     },
     "execution_count": 21,
     "metadata": {},
     "output_type": "execute_result"
    }
   ],
   "source": [
    "phishing_df_url_labels[phishing_df_url_labels[\"label\"] == 1].head()"
   ]
  },
  {
   "cell_type": "code",
   "execution_count": 22,
   "id": "ea732de6",
   "metadata": {},
   "outputs": [
    {
     "name": "stdout",
     "output_type": "stream",
     "text": [
      "<class 'pandas.core.frame.DataFrame'>\n",
      "Index: 1481551 entries, 0 to 1771745\n",
      "Data columns (total 2 columns):\n",
      " #   Column  Non-Null Count    Dtype \n",
      "---  ------  --------------    ----- \n",
      " 0   URL     1481551 non-null  object\n",
      " 1   label   1481551 non-null  int64 \n",
      "dtypes: int64(1), object(1)\n",
      "memory usage: 33.9+ MB\n"
     ]
    }
   ],
   "source": [
    "phishing_df_url_labels.info()"
   ]
  },
  {
   "cell_type": "code",
   "execution_count": 23,
   "id": "6c9459d9",
   "metadata": {},
   "outputs": [
    {
     "name": "stderr",
     "output_type": "stream",
     "text": [
      "C:\\Users\\lelop\\AppData\\Local\\Temp\\ipykernel_17332\\2867867651.py:1: FutureWarning: The 'axis' keyword in DataFrame.groupby is deprecated and will be removed in a future version.\n",
      "  check_label_counts = phishing_df_url_labels.groupby(by=\"label\", axis=0).count()\n"
     ]
    },
    {
     "data": {
      "text/html": [
       "<div>\n",
       "<style scoped>\n",
       "    .dataframe tbody tr th:only-of-type {\n",
       "        vertical-align: middle;\n",
       "    }\n",
       "\n",
       "    .dataframe tbody tr th {\n",
       "        vertical-align: top;\n",
       "    }\n",
       "\n",
       "    .dataframe thead th {\n",
       "        text-align: right;\n",
       "    }\n",
       "</style>\n",
       "<table border=\"1\" class=\"dataframe\">\n",
       "  <thead>\n",
       "    <tr style=\"text-align: right;\">\n",
       "      <th></th>\n",
       "      <th>URL</th>\n",
       "    </tr>\n",
       "  </thead>\n",
       "  <tbody>\n",
       "    <tr>\n",
       "      <th>Non-Phishing</th>\n",
       "      <td>760243</td>\n",
       "    </tr>\n",
       "    <tr>\n",
       "      <th>Phishing</th>\n",
       "      <td>721308</td>\n",
       "    </tr>\n",
       "  </tbody>\n",
       "</table>\n",
       "</div>"
      ],
      "text/plain": [
       "                 URL\n",
       "Non-Phishing  760243\n",
       "Phishing      721308"
      ]
     },
     "execution_count": 23,
     "metadata": {},
     "output_type": "execute_result"
    }
   ],
   "source": [
    "check_label_counts = phishing_df_url_labels.groupby(by=\"label\", axis=0).count()\n",
    "check_label_counts.index = ['Non-Phishing', 'Phishing']\n",
    "\n",
    "check_label_counts"
   ]
  },
  {
   "cell_type": "code",
   "execution_count": 24,
   "id": "3fa9afde",
   "metadata": {},
   "outputs": [
    {
     "data": {
      "text/html": [
       "<div>\n",
       "<style scoped>\n",
       "    .dataframe tbody tr th:only-of-type {\n",
       "        vertical-align: middle;\n",
       "    }\n",
       "\n",
       "    .dataframe tbody tr th {\n",
       "        vertical-align: top;\n",
       "    }\n",
       "\n",
       "    .dataframe thead th {\n",
       "        text-align: right;\n",
       "    }\n",
       "</style>\n",
       "<table border=\"1\" class=\"dataframe\">\n",
       "  <thead>\n",
       "    <tr style=\"text-align: right;\">\n",
       "      <th></th>\n",
       "      <th>URL</th>\n",
       "    </tr>\n",
       "  </thead>\n",
       "  <tbody>\n",
       "    <tr>\n",
       "      <th>Non-Phishing</th>\n",
       "      <td>51.313995</td>\n",
       "    </tr>\n",
       "    <tr>\n",
       "      <th>Phishing</th>\n",
       "      <td>48.686005</td>\n",
       "    </tr>\n",
       "  </tbody>\n",
       "</table>\n",
       "</div>"
      ],
      "text/plain": [
       "                    URL\n",
       "Non-Phishing  51.313995\n",
       "Phishing      48.686005"
      ]
     },
     "execution_count": 24,
     "metadata": {},
     "output_type": "execute_result"
    }
   ],
   "source": [
    "# Calculate the total count\n",
    "total_count = check_label_counts.sum()\n",
    "\n",
    "# Convert counts to percentages\n",
    "check_label_counts_percentage = (check_label_counts / total_count) * 100\n",
    "\n",
    "# Display the result\n",
    "check_label_counts_percentage"
   ]
  },
  {
   "cell_type": "markdown",
   "id": "15087824",
   "metadata": {},
   "source": [
    "## Spliting Train and Test set"
   ]
  },
  {
   "cell_type": "code",
   "execution_count": 25,
   "id": "eed37286",
   "metadata": {},
   "outputs": [],
   "source": [
    "X = phishing_df_url_labels['URL']\n",
    "y = phishing_df_url_labels['label']\n",
    "\n",
    "X_train, X_test, y_train, y_test = train_test_split(\n",
    "    X, y, \n",
    "    test_size=0.84, # 0.84 \n",
    "    random_state=42, \n",
    "    stratify=y,\n",
    "    shuffle=True\n",
    ")"
   ]
  },
  {
   "cell_type": "code",
   "execution_count": 26,
   "id": "9abf0d50",
   "metadata": {},
   "outputs": [],
   "source": [
    "# pd.DataFrame({\"url\": X_train, \"label\":y_train}).to_csv(\"dataset_mini.csv\", index=False)"
   ]
  },
  {
   "cell_type": "code",
   "execution_count": 27,
   "id": "6ecc5963",
   "metadata": {},
   "outputs": [
    {
     "data": {
      "text/plain": [
       "237048"
      ]
     },
     "execution_count": 27,
     "metadata": {},
     "output_type": "execute_result"
    }
   ],
   "source": [
    "len(X_train)"
   ]
  },
  {
   "cell_type": "code",
   "execution_count": 28,
   "id": "8b0aac73",
   "metadata": {},
   "outputs": [
    {
     "data": {
      "text/plain": [
       "1244503"
      ]
     },
     "execution_count": 28,
     "metadata": {},
     "output_type": "execute_result"
    }
   ],
   "source": [
    "len(X_test)"
   ]
  },
  {
   "cell_type": "markdown",
   "id": "725a1679",
   "metadata": {},
   "source": [
    "## Experimenting with Simple AI Architectures"
   ]
  },
  {
   "cell_type": "markdown",
   "id": "dd4fca72",
   "metadata": {},
   "source": [
    "### Data Processing"
   ]
  },
  {
   "cell_type": "code",
   "execution_count": 29,
   "id": "0b1e7724",
   "metadata": {},
   "outputs": [],
   "source": [
    "# Initialize tokenizer with an OOV token.\n",
    "tokenizer = Tokenizer(char_level=True, oov_token=\"<OOV>\")\n",
    "tokenizer.fit_on_texts(X_train)\n",
    "vocab_size = len(tokenizer.word_index) + 1  # plus one for padding token\n",
    "sequences = tokenizer.texts_to_sequences(X_train)\n",
    "max_length = max(len(seq) for seq in sequences)"
   ]
  },
  {
   "cell_type": "code",
   "execution_count": 30,
   "id": "64a9d958",
   "metadata": {},
   "outputs": [],
   "source": [
    "def convert_url_padding(data):\n",
    "    # Convert URLs to sequences and pad them\n",
    "    sequences = tokenizer.texts_to_sequences(data)\n",
    "    padded_sequences = pad_sequences(sequences, maxlen=max_length, padding=\"post\")\n",
    "    return padded_sequences"
   ]
  },
  {
   "cell_type": "code",
   "execution_count": 31,
   "id": "91731c56",
   "metadata": {},
   "outputs": [],
   "source": [
    "X_train_encoding = convert_url_padding(X_train)\n",
    "X_test_encoding = convert_url_padding(X_test)"
   ]
  },
  {
   "cell_type": "code",
   "execution_count": 32,
   "id": "6982a71e",
   "metadata": {},
   "outputs": [],
   "source": [
    "from tensorflow.keras.callbacks import EarlyStopping\n",
    "\n",
    "early_stopping = EarlyStopping(\n",
    "    monitor=\"val_loss\",  # Monitors validation loss\n",
    "    patience=2,  # Stops if loss doesn't improve for 5 epochs\n",
    "    restore_best_weights=True,  # Restores model to best weights when stopped\n",
    "    verbose=1,\n",
    ")"
   ]
  },
  {
   "cell_type": "markdown",
   "id": "771734f8",
   "metadata": {},
   "source": [
    "### CNN Model"
   ]
  },
  {
   "cell_type": "code",
   "execution_count": 33,
   "id": "fdf288a0",
   "metadata": {},
   "outputs": [],
   "source": [
    "def create_cnn_model(vocab_size, embedding_dim, input_length):\n",
    "    inputs = Input(shape=(input_length,))\n",
    "    x = Embedding(input_dim=vocab_size, output_dim=embedding_dim, input_length=input_length, mask_zero=True)(inputs)\n",
    "\n",
    "    # A 1D convolution layer to capture n-gram features\n",
    "    x = Conv1D(filters=128, kernel_size=7, activation='relu')(x)\n",
    "    x = GlobalMaxPooling1D()(x)\n",
    "\n",
    "    x = Dense(256, activation='relu')(x)\n",
    "    x = Dense(64, activation=\"relu\")(x)\n",
    "    x = Dropout(0.5)(x)\n",
    "    # Binary classification output\n",
    "    output_class = Dense(1, activation='sigmoid', name='binary_class')(x)\n",
    "    model = Model(inputs, output_class)\n",
    "    return model\n",
    "\n",
    "# Create the CNN model\n",
    "embedding_dim = 256  # You can experiment with this size\n",
    "cnn_model = create_cnn_model(vocab_size, embedding_dim, input_length=max_length)\n",
    "opt = tf.keras.optimizers.Adam(learning_rate=0.001)\n",
    "# opt = tf.keras.optimizers.SGD(learning_rate=0.001, momentum=0.9, nesterov=True)\n",
    "\n",
    "cnn_model.compile(optimizer=opt, loss='binary_crossentropy', metrics=['accuracy'])\n",
    "# cnn_model.summary()"
   ]
  },
  {
   "cell_type": "markdown",
   "id": "9d898617",
   "metadata": {},
   "source": [
    "### RNN Model"
   ]
  },
  {
   "cell_type": "code",
   "execution_count": 34,
   "id": "60fb0137",
   "metadata": {},
   "outputs": [],
   "source": [
    "def create_rnn_model(vocab_size, embedding_dim, input_length):\n",
    "    inputs = Input(shape=(input_length,))\n",
    "    x = Embedding(\n",
    "        input_dim=vocab_size,\n",
    "        output_dim=embedding_dim,\n",
    "        input_length=input_length,\n",
    "        mask_zero=True,\n",
    "    )(inputs)\n",
    "    \n",
    "    # Bidirectional LSTM to capture both forward and backward dependencies\n",
    "    x = Bidirectional(LSTM(128, return_sequences=False))(x)\n",
    "    x = Dense(128, activation=\"relu\")(x)\n",
    "    x = Dropout(0.5)(x)\n",
    "\n",
    "    # Binary classification output\n",
    "    output_class = Dense(1, activation=\"sigmoid\", name=\"binary_class\")(x)\n",
    "\n",
    "    model = Model(inputs, output_class)\n",
    "    return model\n",
    "\n",
    "\n",
    "# Create the RNN model\n",
    "rnn_model = create_rnn_model(\n",
    "    vocab_size, embedding_dim, input_length=max_length\n",
    ")\n",
    "opt = tf.keras.optimizers.Adam(learning_rate=0.001)\n",
    "rnn_model.compile(\n",
    "    optimizer=opt, loss=\"binary_crossentropy\", metrics=[\"accuracy\"]\n",
    ")\n",
    "# rnn_model.summary()"
   ]
  },
  {
   "cell_type": "markdown",
   "id": "b6a01e60",
   "metadata": {},
   "source": [
    "### Training "
   ]
  },
  {
   "cell_type": "code",
   "execution_count": 35,
   "id": "63ed2e58",
   "metadata": {},
   "outputs": [
    {
     "name": "stdout",
     "output_type": "stream",
     "text": [
      "Epoch 1/20\n",
      "5186/5186 [==============================] - 155s 29ms/step - loss: 0.1933 - accuracy: 0.9293 - val_loss: 0.1750 - val_accuracy: 0.9369\n",
      "Epoch 2/20\n",
      "5186/5186 [==============================] - 150s 29ms/step - loss: 0.1543 - accuracy: 0.9430 - val_loss: 0.1440 - val_accuracy: 0.9457\n",
      "Epoch 3/20\n",
      "5186/5186 [==============================] - 149s 29ms/step - loss: 0.1398 - accuracy: 0.9476 - val_loss: 0.1590 - val_accuracy: 0.9397\n",
      "Epoch 4/20\n",
      "5184/5186 [============================>.] - ETA: 0s - loss: 0.1280 - accuracy: 0.9509Restoring model weights from the end of the best epoch: 2.\n",
      "5186/5186 [==============================] - 149s 29ms/step - loss: 0.1280 - accuracy: 0.9509 - val_loss: 0.1483 - val_accuracy: 0.9462\n",
      "Epoch 4: early stopping\n"
     ]
    }
   ],
   "source": [
    "history_cnn = cnn_model.fit(\n",
    "    X_train_encoding,\n",
    "    y_train,\n",
    "    epochs=20,\n",
    "    validation_split=0.3,\n",
    "    batch_size=32,\n",
    "    callbacks=[early_stopping],\n",
    ")"
   ]
  },
  {
   "cell_type": "code",
   "execution_count": 36,
   "id": "fe62f973",
   "metadata": {},
   "outputs": [],
   "source": [
    "# history_rnn = rnn_model.fit(\n",
    "#     X_train_encoding,\n",
    "#     y_train,\n",
    "#     epochs=2,\n",
    "#     validation_split=0.3,\n",
    "#     batch_size=32,\n",
    "#     callbacks=[early_stopping],\n",
    "# )"
   ]
  },
  {
   "cell_type": "code",
   "execution_count": 37,
   "id": "959fe1ab",
   "metadata": {},
   "outputs": [
    {
     "name": "stdout",
     "output_type": "stream",
     "text": [
      "38891/38891 [==============================] - 346s 9ms/step\n"
     ]
    }
   ],
   "source": [
    "y_pred = cnn_model.predict(X_test_encoding)"
   ]
  },
  {
   "cell_type": "code",
   "execution_count": 38,
   "id": "aac9f99c",
   "metadata": {},
   "outputs": [],
   "source": [
    "y_pred_int = (y_pred > 0.5).astype(int)"
   ]
  },
  {
   "cell_type": "code",
   "execution_count": 39,
   "id": "e9156dec",
   "metadata": {},
   "outputs": [
    {
     "data": {
      "text/plain": [
       "0.9461600333627159"
      ]
     },
     "execution_count": 39,
     "metadata": {},
     "output_type": "execute_result"
    }
   ],
   "source": [
    "accuracy_score(y_test, y_pred_int)"
   ]
  },
  {
   "cell_type": "code",
   "execution_count": 40,
   "id": "0c6b2dbc",
   "metadata": {},
   "outputs": [
    {
     "name": "stdout",
     "output_type": "stream",
     "text": [
      "1/1 [==============================] - 0s 35ms/step\n"
     ]
    },
    {
     "data": {
      "text/plain": [
       "array([[ True],\n",
       "       [ True],\n",
       "       [False],\n",
       "       [ True],\n",
       "       [ True],\n",
       "       [False],\n",
       "       [False],\n",
       "       [False],\n",
       "       [False],\n",
       "       [ True],\n",
       "       [False],\n",
       "       [ True]])"
      ]
     },
     "execution_count": 40,
     "metadata": {},
     "output_type": "execute_result"
    }
   ],
   "source": [
    "cnn_model.predict(\n",
    "    convert_url_padding(\n",
    "        [\n",
    "            \"https://www.southbankmosaics.com\",\n",
    "            \"http://activate.facebook.fblogins.net/88adbao798283o8298398?login.asp\",\n",
    "            \"http://www.buy.com.money.ru\",\n",
    "            \"http://jhomitevd2abj3fk.onion.to/\",\n",
    "            \"premierpaymentprocessing.com/includes/boleto-2via-07-2012.php\",\n",
    "            \"scamme.com\",\n",
    "            \"stealyourmoney.com\",\n",
    "            \"paynow.paypay.com\",\n",
    "            \"https://pornhut.com\",\n",
    "            \"https://paypalll.com\",\n",
    "            \"https://google.loginnnn.com\",\n",
    "            \"https://facebook.com\"\n",
    "        ]\n",
    "    )\n",
    ") > 0.1"
   ]
  },
  {
   "cell_type": "code",
   "execution_count": 41,
   "id": "fa7a2264",
   "metadata": {},
   "outputs": [
    {
     "data": {
      "image/png": "[encoded data removed]",
      "text/plain": [
       "<Figure size 640x480 with 2 Axes>"
      ]
     },
     "metadata": {},
     "output_type": "display_data"
    }
   ],
   "source": [
    "from sklearn.metrics import confusion_matrix\n",
    "import seaborn as sns\n",
    "import matplotlib.pyplot as plt\n",
    "\n",
    "cm = confusion_matrix(y_test, y_pred_int)\n",
    "sns.heatmap(\n",
    "    cm,\n",
    "    annot=True,\n",
    "    fmt=\"d\",\n",
    "    cmap=\"Blues\",\n",
    "    xticklabels=[\"Safe\", \"Phishing\"],\n",
    "    yticklabels=[\"Safe\", \"Phishing\"],\n",
    ")\n",
    "plt.xlabel(\"Predicted\")\n",
    "plt.ylabel(\"Actual\")\n",
    "plt.title(\"Confusion Matrix\")\n",
    "plt.show()"
   ]
  },
  {
   "cell_type": "code",
   "execution_count": 42,
   "id": "361011e8",
   "metadata": {},
   "outputs": [
    {
     "name": "stdout",
     "output_type": "stream",
     "text": [
      "Precision: 0.9289\n",
      "Recall: 0.9632\n",
      "F1 Score: 0.9457\n"
     ]
    }
   ],
   "source": [
    "precision = precision_score(y_test, y_pred_int)\n",
    "recall = recall_score(y_test, y_pred_int)\n",
    "f1 = f1_score(y_test, y_pred_int)\n",
    "\n",
    "print(f\"Precision: {precision:.4f}\")\n",
    "print(f\"Recall: {recall:.4f}\")\n",
    "print(f\"F1 Score: {f1:.4f}\")"
   ]
  },
  {
   "cell_type": "code",
   "execution_count": 43,
   "id": "f6a8ee10",
   "metadata": {},
   "outputs": [],
   "source": [
    "# See all the incorrect responses"
   ]
  },
  {
   "cell_type": "markdown",
   "id": "cb658eca",
   "metadata": {},
   "source": [
    "## Using BERT"
   ]
  },
  {
   "cell_type": "code",
   "execution_count": 29,
   "id": "9db708f0",
   "metadata": {},
   "outputs": [],
   "source": [
    "import torch\n",
    "from transformers import (\n",
    "    DistilBertTokenizerFast,\n",
    "    BertTokenizerFast,\n",
    "    AutoTokenizer,\n",
    ")\n",
    "from datasets import Dataset\n",
    "\n",
    "\n",
    "tokenizer = AutoTokenizer.from_pretrained(\n",
    "    \"CrabInHoney/urlbert-tiny-v3-phishing-classifier\"\n",
    ")"
   ]
  },
  {
   "cell_type": "code",
   "execution_count": 30,
   "id": "b58f42fc",
   "metadata": {},
   "outputs": [],
   "source": [
    "def tokenize_function(data):\n",
    "    return tokenizer(\n",
    "        data[\"text\"],\n",
    "        return_tensors=\"pt\",\n",
    "        truncation=True,\n",
    "        padding=True,\n",
    "        max_length=64,\n",
    "    )"
   ]
  },
  {
   "cell_type": "code",
   "execution_count": 31,
   "id": "5f2b9e6b",
   "metadata": {},
   "outputs": [],
   "source": [
    "# Get val set\n",
    "X_train_new, X_val, y_train_new, y_val = train_test_split(\n",
    "    X_train,\n",
    "    y_train,\n",
    "    test_size=0.25,\n",
    "    random_state=42,  \n",
    "    stratify=y_train\n",
    ")"
   ]
  },
  {
   "cell_type": "code",
   "execution_count": 32,
   "id": "f343cffb",
   "metadata": {},
   "outputs": [
    {
     "data": {
      "text/plain": [
       "177786"
      ]
     },
     "execution_count": 32,
     "metadata": {},
     "output_type": "execute_result"
    }
   ],
   "source": [
    "len(X_train_new)"
   ]
  },
  {
   "cell_type": "code",
   "execution_count": 33,
   "id": "0f56c04a",
   "metadata": {},
   "outputs": [
    {
     "data": {
      "text/plain": [
       "59262"
      ]
     },
     "execution_count": 33,
     "metadata": {},
     "output_type": "execute_result"
    }
   ],
   "source": [
    "len(X_val)"
   ]
  },
  {
   "cell_type": "code",
   "execution_count": 34,
   "id": "7c5a4c92",
   "metadata": {},
   "outputs": [],
   "source": [
    "train_df = pd.DataFrame(\n",
    "    {\n",
    "        \"text\": X_train_new.tolist(),\n",
    "        \"label\": y_train_new.tolist(),\n",
    "    }\n",
    ")\n",
    "val_df = pd.DataFrame(\n",
    "    {\n",
    "        \"text\": X_val.tolist(),\n",
    "        \"label\": y_val.tolist(),\n",
    "    }\n",
    ")"
   ]
  },
  {
   "cell_type": "code",
   "execution_count": 35,
   "id": "88c20d92",
   "metadata": {},
   "outputs": [],
   "source": [
    "train_dataset = Dataset.from_pandas(train_df)\n",
    "val_dataset = Dataset.from_pandas(val_df)"
   ]
  },
  {
   "cell_type": "code",
   "execution_count": 36,
   "id": "405942ea",
   "metadata": {},
   "outputs": [
    {
     "data": {
      "application/vnd.jupyter.widget-view+json": {
       "model_id": "b3f6996b87ce4e0da9e416f30aeaf8e4",
       "version_major": 2,
       "version_minor": 0
      },
      "text/plain": [
       "Map:   0%|          | 0/177786 [00:00<?, ? examples/s]"
      ]
     },
     "metadata": {},
     "output_type": "display_data"
    },
    {
     "data": {
      "application/vnd.jupyter.widget-view+json": {
       "model_id": "f5848cfc92c54ae08fb5b130581c1cc1",
       "version_major": 2,
       "version_minor": 0
      },
      "text/plain": [
       "Map:   0%|          | 0/59262 [00:00<?, ? examples/s]"
      ]
     },
     "metadata": {},
     "output_type": "display_data"
    }
   ],
   "source": [
    "train_dataset = train_dataset.map(tokenize_function, batched=True)\n",
    "val_dataset = val_dataset.map(tokenize_function, batched=True)"
   ]
  },
  {
   "cell_type": "code",
   "execution_count": 37,
   "id": "05391e99",
   "metadata": {},
   "outputs": [],
   "source": [
    "train_dataset = train_dataset.remove_columns([\"text\"])\n",
    "val_dataset = val_dataset.remove_columns([\"text\"])"
   ]
  },
  {
   "cell_type": "code",
   "execution_count": 38,
   "id": "e5481ea4",
   "metadata": {},
   "outputs": [],
   "source": [
    "train_dataset.set_format(\n",
    "    type=\"torch\", columns=[\"input_ids\", \"attention_mask\", \"label\"]\n",
    ")\n",
    "val_dataset.set_format(\n",
    "    type=\"torch\", columns=[\"input_ids\", \"attention_mask\", \"label\"]\n",
    ")"
   ]
  },
  {
   "cell_type": "code",
   "execution_count": 39,
   "id": "5eede8d8",
   "metadata": {},
   "outputs": [],
   "source": [
    "from transformers import AutoModelForSequenceClassification"
   ]
  },
  {
   "cell_type": "code",
   "execution_count": 40,
   "id": "cc7c6177",
   "metadata": {},
   "outputs": [],
   "source": [
    "model = AutoModelForSequenceClassification.from_pretrained(\n",
    "    \"CrabInHoney/urlbert-tiny-v3-phishing-classifier\",\n",
    "    torch_dtype=\"auto\",\n",
    "    # num_labels=len(y_train_new.unique()),\n",
    ")"
   ]
  },
  {
   "cell_type": "code",
   "execution_count": 41,
   "id": "fe9b9244",
   "metadata": {},
   "outputs": [],
   "source": [
    "from transformers import TrainingArguments, Trainer\n",
    "\n",
    "training_args = TrainingArguments(\n",
    "    output_dir=\"./results\",\n",
    "    num_train_epochs=3,\n",
    "    per_device_train_batch_size=8,\n",
    "    per_device_eval_batch_size=16,\n",
    "    warmup_steps=500,\n",
    "    weight_decay=0.01,\n",
    "    logging_dir=\"./logs\",\n",
    "    logging_steps=10,\n",
    "    eval_strategy=\"epoch\",\n",
    "    save_strategy=\"best\",\n",
    "    load_best_model_at_end=True,\n",
    "    tf32=True\n",
    ")"
   ]
  },
  {
   "cell_type": "code",
   "execution_count": 42,
   "id": "9ac9b5ab",
   "metadata": {},
   "outputs": [],
   "source": [
    "import numpy as np\n",
    "import evaluate"
   ]
  },
  {
   "cell_type": "code",
   "execution_count": 43,
   "id": "a0f848a2",
   "metadata": {},
   "outputs": [],
   "source": [
    "metric = evaluate.load(\"accuracy\")"
   ]
  },
  {
   "cell_type": "code",
   "execution_count": 44,
   "id": "86905d61",
   "metadata": {},
   "outputs": [],
   "source": [
    "def compute_metrics(eval_pred):\n",
    "    logits, labels = eval_pred\n",
    "    predictions = np.argmax(logits, axis=-1)\n",
    "    return metric.compute(predictions=predictions, references=labels)"
   ]
  },
  {
   "cell_type": "code",
   "execution_count": 45,
   "id": "097fc106",
   "metadata": {},
   "outputs": [],
   "source": [
    "trainer = Trainer(\n",
    "    model=model,\n",
    "    args=training_args,\n",
    "    train_dataset=train_dataset,\n",
    "    eval_dataset=val_dataset,\n",
    "    compute_metrics=compute_metrics,\n",
    ")"
   ]
  },
  {
   "cell_type": "code",
   "execution_count": 46,
   "id": "97143fea",
   "metadata": {},
   "outputs": [
    {
     "data": {
      "text/html": [
       "\n",
       "    <div>\n",
       "      \n",
       "      <progress value='66672' max='66672' style='width:300px; height:20px; vertical-align: middle;'></progress>\n",
       "      [66672/66672 55:20, Epoch 3/3]\n",
       "    </div>\n",
       "    <table border=\"1\" class=\"dataframe\">\n",
       "  <thead>\n",
       " <tr style=\"text-align: left;\">\n",
       "      <th>Epoch</th>\n",
       "      <th>Training Loss</th>\n",
       "      <th>Validation Loss</th>\n",
       "      <th>Accuracy</th>\n",
       "    </tr>\n",
       "  </thead>\n",
       "  <tbody>\n",
       "    <tr>\n",
       "      <td>1</td>\n",
       "      <td>0.104200</td>\n",
       "      <td>0.220051</td>\n",
       "      <td>0.942358</td>\n",
       "    </tr>\n",
       "    <tr>\n",
       "      <td>2</td>\n",
       "      <td>0.126300</td>\n",
       "      <td>0.167682</td>\n",
       "      <td>0.947285</td>\n",
       "    </tr>\n",
       "    <tr>\n",
       "      <td>3</td>\n",
       "      <td>0.132400</td>\n",
       "      <td>0.167821</td>\n",
       "      <td>0.948314</td>\n",
       "    </tr>\n",
       "  </tbody>\n",
       "</table><p>"
      ],
      "text/plain": [
       "<IPython.core.display.HTML object>"
      ]
     },
     "metadata": {},
     "output_type": "display_data"
    },
    {
     "data": {
      "text/plain": [
       "TrainOutput(global_step=66672, training_loss=0.17689071688454625, metrics={'train_runtime': 3320.8898, 'train_samples_per_second': 160.607, 'train_steps_per_second': 20.077, 'total_flos': 736646010702336.0, 'train_loss': 0.17689071688454625, 'epoch': 3.0})"
      ]
     },
     "execution_count": 46,
     "metadata": {},
     "output_type": "execute_result"
    }
   ],
   "source": [
    "trainer.train()"
   ]
  },
  {
   "cell_type": "code",
   "execution_count": 47,
   "id": "5be2df37",
   "metadata": {},
   "outputs": [
    {
     "data": {
      "text/plain": [
       "BertForSequenceClassification(\n",
       "  (bert): BertModel(\n",
       "    (embeddings): BertEmbeddings(\n",
       "      (word_embeddings): Embedding(400, 192, padding_idx=0)\n",
       "      (position_embeddings): Embedding(64, 192)\n",
       "      (token_type_embeddings): Embedding(2, 192)\n",
       "      (LayerNorm): LayerNorm((192,), eps=1e-12, elementwise_affine=True)\n",
       "      (dropout): Dropout(p=0.1, inplace=False)\n",
       "    )\n",
       "    (encoder): BertEncoder(\n",
       "      (layer): ModuleList(\n",
       "        (0-7): 8 x BertLayer(\n",
       "          (attention): BertAttention(\n",
       "            (self): BertSdpaSelfAttention(\n",
       "              (query): Linear(in_features=192, out_features=192, bias=True)\n",
       "              (key): Linear(in_features=192, out_features=192, bias=True)\n",
       "              (value): Linear(in_features=192, out_features=192, bias=True)\n",
       "              (dropout): Dropout(p=0.1, inplace=False)\n",
       "            )\n",
       "            (output): BertSelfOutput(\n",
       "              (dense): Linear(in_features=192, out_features=192, bias=True)\n",
       "              (LayerNorm): LayerNorm((192,), eps=1e-12, elementwise_affine=True)\n",
       "              (dropout): Dropout(p=0.1, inplace=False)\n",
       "            )\n",
       "          )\n",
       "          (intermediate): BertIntermediate(\n",
       "            (dense): Linear(in_features=192, out_features=768, bias=True)\n",
       "            (intermediate_act_fn): GELUActivation()\n",
       "          )\n",
       "          (output): BertOutput(\n",
       "            (dense): Linear(in_features=768, out_features=192, bias=True)\n",
       "            (LayerNorm): LayerNorm((192,), eps=1e-12, elementwise_affine=True)\n",
       "            (dropout): Dropout(p=0.1, inplace=False)\n",
       "          )\n",
       "        )\n",
       "      )\n",
       "    )\n",
       "    (pooler): BertPooler(\n",
       "      (dense): Linear(in_features=192, out_features=192, bias=True)\n",
       "      (activation): Tanh()\n",
       "    )\n",
       "  )\n",
       "  (dropout): Dropout(p=0.1, inplace=False)\n",
       "  (classifier): Linear(in_features=192, out_features=2, bias=True)\n",
       ")"
      ]
     },
     "execution_count": 47,
     "metadata": {},
     "output_type": "execute_result"
    }
   ],
   "source": [
    "# Set model to evaluation mode\n",
    "model.eval()"
   ]
  },
  {
   "cell_type": "code",
   "execution_count": 48,
   "id": "8b22af46",
   "metadata": {},
   "outputs": [
    {
     "name": "stdout",
     "output_type": "stream",
     "text": [
      "{'predicted_class': 0, 'probabilities': [[0.9952337145805359, 0.0047663068398833275]]}\n"
     ]
    }
   ],
   "source": [
    "import numpy as np\n",
    "\n",
    "device = torch.device(\"cuda\" if torch.cuda.is_available() else \"cpu\")\n",
    "\n",
    "\n",
    "def predict(text):\n",
    "    # Tokenize the input text\n",
    "    inputs = tokenizer(\n",
    "        text,\n",
    "        padding=\"max_length\",\n",
    "        truncation=True,\n",
    "        max_length=64,\n",
    "        return_tensors=\"pt\",\n",
    "    )\n",
    "    inputs = {key: val.to(device) for key, val in inputs.items()}  # Move input tensors to device\n",
    "\n",
    "\n",
    "    # Perform inference\n",
    "    with torch.no_grad():\n",
    "        outputs = model(**inputs)\n",
    "\n",
    "    # Get logits and apply softmax for probabilities\n",
    "    logits = outputs.logits\n",
    "    probabilities = torch.nn.functional.softmax(logits, dim=-1)\n",
    "\n",
    "    # Get predicted class\n",
    "    predicted_class = torch.argmax(probabilities, dim=-1).item()\n",
    "\n",
    "    return {\n",
    "        \"predicted_class\": predicted_class,\n",
    "        \"probabilities\": probabilities.tolist(),\n",
    "    }\n",
    "\n",
    "\n",
    "# Example usage\n",
    "text = \"This is an amazing product!\"  # Replace with any text\n",
    "prediction = predict(text)\n",
    "print(prediction)"
   ]
  },
  {
   "cell_type": "code",
   "execution_count": 49,
   "id": "64753a3d",
   "metadata": {},
   "outputs": [],
   "source": [
    "metric = evaluate.load(\"accuracy\")"
   ]
  },
  {
   "cell_type": "code",
   "execution_count": 50,
   "id": "ff375d5b",
   "metadata": {},
   "outputs": [
    {
     "data": {
      "application/vnd.jupyter.widget-view+json": {
       "model_id": "e65ece55e49e4b979aea28c9a8591207",
       "version_major": 2,
       "version_minor": 0
      },
      "text/plain": [
       "Map:   0%|          | 0/1244503 [00:00<?, ? examples/s]"
      ]
     },
     "metadata": {},
     "output_type": "display_data"
    }
   ],
   "source": [
    "test_df = pd.DataFrame({\"text\": X_test.tolist(), \"labels\": y_test.tolist()})\n",
    "test_dataset = Dataset.from_pandas(test_df)\n",
    "\n",
    "\n",
    "test_dataset = test_dataset.map(tokenize_function, batched=True)\n",
    "\n",
    "# Remove original text column and set format for PyTorch\n",
    "test_dataset = test_dataset.remove_columns([\"text\"])\n",
    "test_dataset.set_format(\n",
    "    type=\"torch\", columns=[\"input_ids\", \"attention_mask\", \"labels\"]\n",
    ")"
   ]
  },
  {
   "cell_type": "code",
   "execution_count": 51,
   "id": "0e27e743",
   "metadata": {},
   "outputs": [
    {
     "name": "stderr",
     "output_type": "stream",
     "text": [
      "100%|██████████| 77782/77782 [20:32<00:00, 63.11it/s]\n"
     ]
    },
    {
     "name": "stdout",
     "output_type": "stream",
     "text": [
      "Accuracy: {'accuracy': 0.9481077988562503}\n"
     ]
    }
   ],
   "source": [
    "def evaluate_model(test_dataset):\n",
    "    predictions = []\n",
    "    references = []\n",
    "\n",
    "    from torch.utils.data import DataLoader\n",
    "    from tqdm import tqdm\n",
    "\n",
    "    test_dataloader = DataLoader(test_dataset, batch_size=16)\n",
    "\n",
    "    with torch.no_grad():\n",
    "        for batch in tqdm(test_dataloader):\n",
    "            # Move batch to the correct device\n",
    "            batch = {key: val.to(device) for key, val in batch.items()}\n",
    "\n",
    "            # Forward pass\n",
    "            outputs = model(\n",
    "                **batch\n",
    "            )  # Ensure batch contains 'labels' instead of 'label'\n",
    "            logits = outputs.logits\n",
    "            preds = torch.argmax(logits, axis=-1)\n",
    "\n",
    "            # Store predictions and actual labels\n",
    "            predictions.extend(preds.cpu().numpy())\n",
    "            references.extend(\n",
    "                batch[\"labels\"].cpu().numpy()\n",
    "            )  # Use 'labels' instead of 'label'\n",
    "\n",
    "    # Compute accuracy\n",
    "    accuracy = metric.compute(predictions=predictions, references=references)\n",
    "    return accuracy, predictions, references\n",
    "\n",
    "\n",
    "# Run evaluation\n",
    "accuracy_result, pred, actual = evaluate_model(test_dataset)\n",
    "print(\"Accuracy:\", accuracy_result)"
   ]
  },
  {
   "cell_type": "code",
   "execution_count": null,
   "id": "e87f8169",
   "metadata": {},
   "outputs": [],
   "source": []
  },
  {
   "cell_type": "code",
   "execution_count": null,
   "id": "1168e0b7",
   "metadata": {},
   "outputs": [],
   "source": []
  },
  {
   "cell_type": "code",
   "execution_count": null,
   "id": "978bf4e7",
   "metadata": {},
   "outputs": [],
   "source": []
  },
  {
   "cell_type": "code",
   "execution_count": null,
   "id": "d7f98aa2",
   "metadata": {},
   "outputs": [],
   "source": []
  },
  {
   "cell_type": "code",
   "execution_count": null,
   "id": "b1f3df54",
   "metadata": {},
   "outputs": [],
   "source": []
  },
  {
   "cell_type": "markdown",
   "id": "fcbca5a0",
   "metadata": {},
   "source": []
  },
  {
   "cell_type": "markdown",
   "id": "cf7ef601",
   "metadata": {},
   "source": []
  }
 ],
 "metadata": {
  "kernelspec": {
   "display_name": "Python 3 (ipykernel)",
   "language": "python",
   "name": "python3"
  },
  "language_info": {
   "codemirror_mode": {
    "name": "ipython",
    "version": 3
   },
   "file_extension": ".py",
   "mimetype": "text/x-python",
   "name": "python",
   "nbconvert_exporter": "python",
   "pygments_lexer": "ipython3",
   "version": "3.10.16"
  }
 },
 "nbformat": 4,
 "nbformat_minor": 5
}

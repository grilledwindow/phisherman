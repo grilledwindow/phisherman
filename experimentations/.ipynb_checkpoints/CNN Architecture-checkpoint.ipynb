{
 "cells": [
  {
   "cell_type": "markdown",
   "id": "33baa013-14fa-454c-898b-15a23452a9da",
   "metadata": {},
   "source": [
    "# Experimentation of Detecting Phishing Links "
   ]
  },
  {
   "cell_type": "code",
   "execution_count": 1,
   "id": "84c8e8ab-93db-4fa8-826b-ef49e9f298c9",
   "metadata": {},
   "outputs": [
    {
     "name": "stderr",
     "output_type": "stream",
     "text": [
      "2025-03-26 14:28:48.235160: I tensorflow/core/util/port.cc:153] oneDNN custom operations are on. You may see slightly different numerical results due to floating-point round-off errors from different computation orders. To turn them off, set the environment variable `TF_ENABLE_ONEDNN_OPTS=0`.\n",
      "2025-03-26 14:28:48.248264: E external/local_xla/xla/stream_executor/cuda/cuda_fft.cc:467] Unable to register cuFFT factory: Attempting to register factory for plugin cuFFT when one has already been registered\n",
      "WARNING: All log messages before absl::InitializeLog() is called are written to STDERR\n",
      "E0000 00:00:1742970528.258998    1072 cuda_dnn.cc:8579] Unable to register cuDNN factory: Attempting to register factory for plugin cuDNN when one has already been registered\n",
      "E0000 00:00:1742970528.262094    1072 cuda_blas.cc:1407] Unable to register cuBLAS factory: Attempting to register factory for plugin cuBLAS when one has already been registered\n",
      "W0000 00:00:1742970528.272376    1072 computation_placer.cc:177] computation placer already registered. Please check linkage and avoid linking the same target more than once.\n",
      "W0000 00:00:1742970528.272432    1072 computation_placer.cc:177] computation placer already registered. Please check linkage and avoid linking the same target more than once.\n",
      "W0000 00:00:1742970528.272433    1072 computation_placer.cc:177] computation placer already registered. Please check linkage and avoid linking the same target more than once.\n",
      "W0000 00:00:1742970528.272435    1072 computation_placer.cc:177] computation placer already registered. Please check linkage and avoid linking the same target more than once.\n",
      "2025-03-26 14:28:48.276739: I tensorflow/core/platform/cpu_feature_guard.cc:210] This TensorFlow binary is optimized to use available CPU instructions in performance-critical operations.\n",
      "To enable the following instructions: AVX2 AVX512F AVX512_VNNI FMA, in other operations, rebuild TensorFlow with the appropriate compiler flags.\n"
     ]
    }
   ],
   "source": [
    "import numpy as np\n",
    "import pandas as pd\n",
    "import matplotlib.pyplot as plt\n",
    "import seaborn as sns\n",
    "\n",
    "\n",
    "from sklearn.model_selection import train_test_split\n",
    "from sklearn.metrics import (\n",
    "    precision_score,\n",
    "    recall_score,\n",
    "    f1_score,\n",
    "    accuracy_score,\n",
    "    confusion_matrix\n",
    ")\n",
    "\n",
    "import tensorflow as tf\n",
    "from tensorflow.keras.preprocessing.text import Tokenizer\n",
    "from tensorflow.keras.preprocessing.sequence import pad_sequences\n",
    "from tensorflow.keras.layers import (\n",
    "    Input,\n",
    "    Embedding,\n",
    "    Conv1D,\n",
    "    GlobalMaxPooling1D,\n",
    "    Dense,\n",
    "    Dropout,\n",
    ")\n",
    "from tensorflow.keras.models import Model\n",
    "\n",
    "import os\n",
    "import requests\n",
    "import zipfile\n",
    "import os"
   ]
  },
  {
   "cell_type": "markdown",
   "id": "fe7bd361-ab13-4609-9302-95d082272de5",
   "metadata": {},
   "source": [
    "## Datasets\n",
    "\n",
    "- https://data.mendeley.com/datasets/vfszbj9b36/1\n",
    "- https://archive.ics.uci.edu/dataset/967/phiusiil+phishing+url+dataset\n",
    "- https://www.kaggle.com/datasets/harisudhan411/phishing-and-legitimate-urls\n",
    "- https://www.kaggle.com/datasets/taruntiwarihp/phishing-site-urls\n",
    "- https://www.kaggle.com/datasets/joebeachcapital/phishing-urls\n",
    "- https://www.kaggle.com/datasets/shashwatwork/web-page-phishing-detection-dataset"
   ]
  },
  {
   "cell_type": "code",
   "execution_count": 2,
   "id": "365d1158-4b3e-4b16-8666-d34c1ea6cce4",
   "metadata": {},
   "outputs": [
    {
     "name": "stderr",
     "output_type": "stream",
     "text": [
      "/tmp/ipykernel_1072/1400040877.py:24: DtypeWarning: Columns (1,2,3,11,12) have mixed types. Specify dtype option on import or set low_memory=False.\n",
      "  phishing_df5 = pd.read_csv(\n"
     ]
    }
   ],
   "source": [
    "phishing_df = pd.read_csv(\"dataset/phishing_data_num_1.csv\")\n",
    "phishing_df = phishing_df[[\"URL\", \"label\"]]\n",
    "\n",
    "\n",
    "phishing_df2 = pd.read_csv(\"dataset/dataset_num_2.csv\")\n",
    "phishing_df2[\"type\"] = phishing_df2[\"type\"].apply(\n",
    "    lambda x: 0 if x == \"legitimate\" else 1\n",
    ")\n",
    "phishing_df2.columns = ['URL', 'label']\n",
    "\n",
    "\n",
    "phishing_df3 = pd.read_csv(\"dataset/dataset_num_3.csv\")\n",
    "phishing_df3.columns = [\"URL\", \"label\"]\n",
    "\n",
    "\n",
    "phishing_df4 = pd.read_csv(\"dataset/phishing_data_num_4.csv\")\n",
    "phishing_df4.columns = [\"URL\", \"label\"]\n",
    "phishing_df4[\"label\"] = phishing_df4[\"label\"].apply(\n",
    "    lambda x: 1 if x == \"bad\" else 0\n",
    ")\n",
    "phishing_df4_bad = phishing_df4[phishing_df4['label'] == 1]\n",
    "\n",
    "\n",
    "phishing_df5 = pd.read_csv(\n",
    "    \"dataset/dataset_num 5.csv\", encoding=\"ISO-8859-1\", on_bad_lines=\"skip\"\n",
    ")\n",
    "phishing_df5 = phishing_df5[['domain', 'label']].dropna()\n",
    "phishing_df5.columns = [\"URL\", \"label\"]\n",
    "phishing_df5[\"label\"] = phishing_df5[\"label\"].astype(int)\n",
    "\n",
    "\n",
    "phishing_df6 = pd.read_csv(\"dataset/dataset_phishing num 6.csv\")\n",
    "phishing_df6 = phishing_df6[['url', 'status']]\n",
    "phishing_df6.columns = [\"URL\", \"label\"]\n",
    "phishing_df6[\"label\"] = phishing_df6[\"label\"].apply(\n",
    "    lambda x: 1 if x == \"phishing\" else 0\n",
    ")"
   ]
  },
  {
   "cell_type": "code",
   "execution_count": 3,
   "id": "bdace3a4-949b-4607-b187-2f325899d553",
   "metadata": {},
   "outputs": [],
   "source": [
    "df = pd.concat(\n",
    "    [\n",
    "        phishing_df,\n",
    "        phishing_df2,\n",
    "        phishing_df3,\n",
    "        phishing_df4_bad,\n",
    "        phishing_df5,\n",
    "        phishing_df6,\n",
    "    ],\n",
    "    ignore_index=True,\n",
    ")"
   ]
  },
  {
   "cell_type": "code",
   "execution_count": 4,
   "id": "39cc6eca-2eaf-4a78-96cb-bda1c34a927a",
   "metadata": {},
   "outputs": [],
   "source": [
    "df = df.drop_duplicates(subset=\"URL\", keep=\"last\")"
   ]
  },
  {
   "cell_type": "code",
   "execution_count": 5,
   "id": "a24c8919-6dfc-4642-afd4-316cf656f103",
   "metadata": {},
   "outputs": [
    {
     "data": {
      "text/plain": [
       "1481551"
      ]
     },
     "execution_count": 5,
     "metadata": {},
     "output_type": "execute_result"
    }
   ],
   "source": [
    "len(df)"
   ]
  },
  {
   "cell_type": "code",
   "execution_count": 6,
   "id": "e550fe13-71e6-4d93-9e7b-21c3bc9068cc",
   "metadata": {},
   "outputs": [
    {
     "name": "stdout",
     "output_type": "stream",
     "text": [
      "<class 'pandas.core.frame.DataFrame'>\n",
      "Index: 1481551 entries, 0 to 1771745\n",
      "Data columns (total 2 columns):\n",
      " #   Column  Non-Null Count    Dtype \n",
      "---  ------  --------------    ----- \n",
      " 0   URL     1481551 non-null  object\n",
      " 1   label   1481551 non-null  int64 \n",
      "dtypes: int64(1), object(1)\n",
      "memory usage: 33.9+ MB\n"
     ]
    }
   ],
   "source": [
    "df.info()"
   ]
  },
  {
   "cell_type": "markdown",
   "id": "4c9d9785-e241-4efd-96a1-c2e376c08e76",
   "metadata": {},
   "source": [
    "## Data Exploration"
   ]
  },
  {
   "cell_type": "code",
   "execution_count": 7,
   "id": "67f90471-eb0d-43cb-b3d7-f99bfdc2dd96",
   "metadata": {},
   "outputs": [
    {
     "data": {
      "text/html": [
       "<div>\n",
       "<style scoped>\n",
       "    .dataframe tbody tr th:only-of-type {\n",
       "        vertical-align: middle;\n",
       "    }\n",
       "\n",
       "    .dataframe tbody tr th {\n",
       "        vertical-align: top;\n",
       "    }\n",
       "\n",
       "    .dataframe thead th {\n",
       "        text-align: right;\n",
       "    }\n",
       "</style>\n",
       "<table border=\"1\" class=\"dataframe\">\n",
       "  <thead>\n",
       "    <tr style=\"text-align: right;\">\n",
       "      <th></th>\n",
       "      <th>Label Percentage</th>\n",
       "    </tr>\n",
       "  </thead>\n",
       "  <tbody>\n",
       "    <tr>\n",
       "      <th>Non-Phishing</th>\n",
       "      <td>51.0</td>\n",
       "    </tr>\n",
       "    <tr>\n",
       "      <th>Phishing</th>\n",
       "      <td>49.0</td>\n",
       "    </tr>\n",
       "  </tbody>\n",
       "</table>\n",
       "</div>"
      ],
      "text/plain": [
       "              Label Percentage\n",
       "Non-Phishing              51.0\n",
       "Phishing                  49.0"
      ]
     },
     "execution_count": 7,
     "metadata": {},
     "output_type": "execute_result"
    }
   ],
   "source": [
    "df_label_count = df.groupby(by=\"label\").count()\n",
    "df_label_count.index = ['Non-Phishing', 'Phishing']\n",
    "\n",
    "total_count = df_label_count.sum()\n",
    "check_label_counts_percentage = (df_label_count / total_count) * 100\n",
    "check_label_counts_percentage.columns = ['Label Percentage']\n",
    "check_label_counts_percentage.apply(round)"
   ]
  },
  {
   "cell_type": "code",
   "execution_count": 8,
   "id": "fcac13ef-1b05-409c-92ea-54d69de3f62c",
   "metadata": {},
   "outputs": [
    {
     "name": "stdout",
     "output_type": "stream",
     "text": [
      "Num of rows that contains the protocal in the URL is: 59%\n",
      "Num of rows that does not contain the protocal in the URL is: 41%\n"
     ]
    }
   ],
   "source": [
    "# How many url contains protocals in the string\n",
    "df_http = df['URL'].str.contains('://', na=False)\n",
    "df_http.sum()\n",
    "\n",
    "contains_http = (df_http.sum() / len(df_http)) * 100\n",
    "does_not_contain_http = 100 - contains_http\n",
    "\n",
    "print(f\"Num of rows that contains the protocal in the URL is: {contains_http:.0f}%\")\n",
    "print(f\"Num of rows that does not contain the protocal in the URL is: {does_not_contain_http:.0f}%\")"
   ]
  },
  {
   "cell_type": "code",
   "execution_count": 9,
   "id": "37a7ca1b-6059-483c-a06b-850be540aeec",
   "metadata": {},
   "outputs": [],
   "source": [
    "protocal_regex = r'^(?=.{0,10}://).*?://'"
   ]
  },
  {
   "cell_type": "code",
   "execution_count": 10,
   "id": "f42cfa6d-4b2d-44f6-bf68-94186acf63cd",
   "metadata": {},
   "outputs": [
    {
     "data": {
      "text/html": [
       "<div>\n",
       "<style scoped>\n",
       "    .dataframe tbody tr th:only-of-type {\n",
       "        vertical-align: middle;\n",
       "    }\n",
       "\n",
       "    .dataframe tbody tr th {\n",
       "        vertical-align: top;\n",
       "    }\n",
       "\n",
       "    .dataframe thead th {\n",
       "        text-align: right;\n",
       "    }\n",
       "</style>\n",
       "<table border=\"1\" class=\"dataframe\">\n",
       "  <thead>\n",
       "    <tr style=\"text-align: right;\">\n",
       "      <th></th>\n",
       "      <th>URL</th>\n",
       "      <th>label</th>\n",
       "    </tr>\n",
       "  </thead>\n",
       "  <tbody>\n",
       "    <tr>\n",
       "      <th>0</th>\n",
       "      <td>https://www.southbankmosaics.com</td>\n",
       "      <td>1</td>\n",
       "    </tr>\n",
       "    <tr>\n",
       "      <th>1</th>\n",
       "      <td>https://www.uni-mainz.de</td>\n",
       "      <td>1</td>\n",
       "    </tr>\n",
       "    <tr>\n",
       "      <th>2</th>\n",
       "      <td>https://www.voicefmradio.co.uk</td>\n",
       "      <td>1</td>\n",
       "    </tr>\n",
       "    <tr>\n",
       "      <th>3</th>\n",
       "      <td>https://www.sfnmjournal.com</td>\n",
       "      <td>1</td>\n",
       "    </tr>\n",
       "    <tr>\n",
       "      <th>4</th>\n",
       "      <td>https://www.rewildingargentina.org</td>\n",
       "      <td>1</td>\n",
       "    </tr>\n",
       "  </tbody>\n",
       "</table>\n",
       "</div>"
      ],
      "text/plain": [
       "                                  URL  label\n",
       "0    https://www.southbankmosaics.com      1\n",
       "1            https://www.uni-mainz.de      1\n",
       "2      https://www.voicefmradio.co.uk      1\n",
       "3         https://www.sfnmjournal.com      1\n",
       "4  https://www.rewildingargentina.org      1"
      ]
     },
     "execution_count": 10,
     "metadata": {},
     "output_type": "execute_result"
    }
   ],
   "source": [
    "df[df['URL'].str.contains(protocal_regex, na=False)].head()"
   ]
  },
  {
   "cell_type": "code",
   "execution_count": 11,
   "id": "e7d11e9b-9551-4fd8-9aa6-3f5fc44ee19a",
   "metadata": {},
   "outputs": [
    {
     "data": {
      "text/html": [
       "<div>\n",
       "<style scoped>\n",
       "    .dataframe tbody tr th:only-of-type {\n",
       "        vertical-align: middle;\n",
       "    }\n",
       "\n",
       "    .dataframe tbody tr th {\n",
       "        vertical-align: top;\n",
       "    }\n",
       "\n",
       "    .dataframe thead th {\n",
       "        text-align: right;\n",
       "    }\n",
       "</style>\n",
       "<table border=\"1\" class=\"dataframe\">\n",
       "  <thead>\n",
       "    <tr style=\"text-align: right;\">\n",
       "      <th></th>\n",
       "      <th>URL</th>\n",
       "      <th>label</th>\n",
       "    </tr>\n",
       "  </thead>\n",
       "  <tbody>\n",
       "    <tr>\n",
       "      <th>685971</th>\n",
       "      <td>0000111servicehelpdesk.godaddysites.com</td>\n",
       "      <td>0</td>\n",
       "    </tr>\n",
       "    <tr>\n",
       "      <th>685972</th>\n",
       "      <td>000011accesswebform.godaddysites.com</td>\n",
       "      <td>0</td>\n",
       "    </tr>\n",
       "    <tr>\n",
       "      <th>685973</th>\n",
       "      <td>00003.online</td>\n",
       "      <td>0</td>\n",
       "    </tr>\n",
       "    <tr>\n",
       "      <th>685974</th>\n",
       "      <td>0009servicedeskowa.godaddysites.com</td>\n",
       "      <td>0</td>\n",
       "    </tr>\n",
       "    <tr>\n",
       "      <th>685975</th>\n",
       "      <td>000n38p.wcomhost.com</td>\n",
       "      <td>0</td>\n",
       "    </tr>\n",
       "  </tbody>\n",
       "</table>\n",
       "</div>"
      ],
      "text/plain": [
       "                                            URL  label\n",
       "685971  0000111servicehelpdesk.godaddysites.com      0\n",
       "685972     000011accesswebform.godaddysites.com      0\n",
       "685973                             00003.online      0\n",
       "685974      0009servicedeskowa.godaddysites.com      0\n",
       "685975                     000n38p.wcomhost.com      0"
      ]
     },
     "execution_count": 11,
     "metadata": {},
     "output_type": "execute_result"
    }
   ],
   "source": [
    "df[~df['URL'].str.contains(protocal_regex, na=False)].head()"
   ]
  },
  {
   "cell_type": "markdown",
   "id": "7c11305e-d33d-4eb2-92b2-90fc621d8db9",
   "metadata": {},
   "source": [
    "## Data Cleaning"
   ]
  },
  {
   "cell_type": "code",
   "execution_count": 14,
   "id": "4911a621-03e4-48e9-9e6c-cc5ffe45cd0e",
   "metadata": {},
   "outputs": [],
   "source": [
    "# Remove the first :// in the string within the first 10 characters of the string\n",
    "df['URL'] = df['URL'].str.replace(protocal_regex, '', regex=True)"
   ]
  },
  {
   "cell_type": "code",
   "execution_count": 16,
   "id": "5d776ba6-8f9e-4930-ab05-dfe36b952af8",
   "metadata": {},
   "outputs": [
    {
     "data": {
      "text/html": [
       "<div>\n",
       "<style scoped>\n",
       "    .dataframe tbody tr th:only-of-type {\n",
       "        vertical-align: middle;\n",
       "    }\n",
       "\n",
       "    .dataframe tbody tr th {\n",
       "        vertical-align: top;\n",
       "    }\n",
       "\n",
       "    .dataframe thead th {\n",
       "        text-align: right;\n",
       "    }\n",
       "</style>\n",
       "<table border=\"1\" class=\"dataframe\">\n",
       "  <thead>\n",
       "    <tr style=\"text-align: right;\">\n",
       "      <th></th>\n",
       "      <th>URL</th>\n",
       "      <th>label</th>\n",
       "    </tr>\n",
       "  </thead>\n",
       "  <tbody>\n",
       "  </tbody>\n",
       "</table>\n",
       "</div>"
      ],
      "text/plain": [
       "Empty DataFrame\n",
       "Columns: [URL, label]\n",
       "Index: []"
      ]
     },
     "execution_count": 16,
     "metadata": {},
     "output_type": "execute_result"
    }
   ],
   "source": [
    "df[df['URL'].str.contains(protocal_regex, na=False)].head()"
   ]
  },
  {
   "cell_type": "markdown",
   "id": "43871068-4e04-4f87-98da-705430a32b68",
   "metadata": {},
   "source": [
    "## Train Test Split"
   ]
  },
  {
   "cell_type": "code",
   "execution_count": 20,
   "id": "c6a07ecd-beec-4dac-a2d3-656aae59557c",
   "metadata": {},
   "outputs": [],
   "source": [
    "X = df['URL']\n",
    "y = df['label']"
   ]
  },
  {
   "cell_type": "code",
   "execution_count": 29,
   "id": "2c7e75e5-52e0-43d4-a710-506b94e562ac",
   "metadata": {},
   "outputs": [],
   "source": [
    "def dataset_spliter(experimenting_with_model: bool):\n",
    "    if experimenting_with_model:\n",
    "        X_trunc, _ , y_trunc, _ = train_test_split(X, y, \n",
    "                                                  test_size=0.84, random_state=4, \n",
    "                                                  stratify=y, shuffle=True)\n",
    "        return train_test_split(X_trunc, y_trunc, test_size=0.3, random_state=4, stratify=y_trunc, shuffle=True)\n",
    "    else:\n",
    "        return train_test_split(X, y, test_size=0.84, random_state=4, stratify=y,shuffle=True)"
   ]
  },
  {
   "cell_type": "code",
   "execution_count": 36,
   "id": "a641a5ed-c9c2-4c6f-bae6-ddf6deba2904",
   "metadata": {},
   "outputs": [],
   "source": [
    "X_train, X_test, y_train, y_test = dataset_spliter(experimenting_with_model=True)"
   ]
  },
  {
   "cell_type": "code",
   "execution_count": 37,
   "id": "a1009b42-a687-4501-9bf8-595fe7c48452",
   "metadata": {},
   "outputs": [
    {
     "name": "stdout",
     "output_type": "stream",
     "text": [
      "Training set: 165933\n",
      "Testing set: 71115\n"
     ]
    }
   ],
   "source": [
    "print(f\"Training set: {len(X_train)}\")\n",
    "print(f\"Testing set: {len(X_test)}\")"
   ]
  },
  {
   "cell_type": "markdown",
   "id": "69397f26-207d-4491-a975-9ea5ad9972ff",
   "metadata": {},
   "source": [
    "## Data Preprocessing"
   ]
  },
  {
   "cell_type": "code",
   "execution_count": 38,
   "id": "cd00d8a6-c26d-4dfc-8125-bac20eac09ac",
   "metadata": {},
   "outputs": [],
   "source": [
    "# Initialize tokenizer with an OOV token.\n",
    "tokenizer = Tokenizer(char_level=True, oov_token=\"<OOV>\")\n",
    "tokenizer.fit_on_texts(X_train)\n",
    "vocab_size = len(tokenizer.word_index) + 1  # plus one for padding token\n",
    "sequences = tokenizer.texts_to_sequences(X_train)\n",
    "max_length = max(len(seq) for seq in sequences)"
   ]
  },
  {
   "cell_type": "code",
   "execution_count": 39,
   "id": "f10f6364-5a30-44a8-b6d2-a1d13c01248b",
   "metadata": {},
   "outputs": [],
   "source": [
    "def convert_url_padding(data):\n",
    "    # Convert URLs to sequences and pad them\n",
    "    sequences = tokenizer.texts_to_sequences(data)\n",
    "    padded_sequences = pad_sequences(sequences, maxlen=max_length, padding=\"post\")\n",
    "    return padded_sequences"
   ]
  },
  {
   "cell_type": "code",
   "execution_count": 40,
   "id": "894215b6-ff7a-40b0-970c-abf8b4314f85",
   "metadata": {},
   "outputs": [],
   "source": [
    "X_train_encoding = convert_url_padding(X_train)\n",
    "X_test_encoding = convert_url_padding(X_test)"
   ]
  },
  {
   "cell_type": "markdown",
   "id": "c9e371d9-76d6-4269-b805-af42a5943b8c",
   "metadata": {},
   "source": [
    "## Tensorflow Callbacks"
   ]
  },
  {
   "cell_type": "code",
   "execution_count": 41,
   "id": "897a1366-5790-491f-a19e-74f4281bc5c0",
   "metadata": {},
   "outputs": [],
   "source": [
    "from tensorflow.keras.callbacks import EarlyStopping\n",
    "\n",
    "early_stopping = EarlyStopping(\n",
    "    monitor=\"val_loss\",  # Monitors validation loss\n",
    "    patience=2,  # Stops if loss doesn't improve for 5 epochs\n",
    "    restore_best_weights=True,  # Restores model to best weights when stopped\n",
    "    verbose=1,\n",
    ")"
   ]
  },
  {
   "cell_type": "markdown",
   "id": "ea31098c-9c31-4acb-a682-9fb0204285ee",
   "metadata": {},
   "source": [
    "## CNN Model"
   ]
  },
  {
   "cell_type": "code",
   "execution_count": 42,
   "id": "dd73ab63-815e-4587-9c4e-7a767bb03a01",
   "metadata": {},
   "outputs": [
    {
     "name": "stderr",
     "output_type": "stream",
     "text": [
      "/opt/miniconda/envs/phisherman/lib/python3.10/site-packages/keras/src/layers/core/embedding.py:90: UserWarning: Argument `input_length` is deprecated. Just remove it.\n",
      "  warnings.warn(\n",
      "I0000 00:00:1742971379.068487    1072 gpu_device.cc:2019] Created device /job:localhost/replica:0/task:0/device:GPU:0 with 1753 MB memory:  -> device: 0, name: NVIDIA RTX A2000 Laptop GPU, pci bus id: 0000:01:00.0, compute capability: 8.6\n",
      "/opt/miniconda/envs/phisherman/lib/python3.10/site-packages/keras/src/layers/layer.py:939: UserWarning: Layer 'conv1d' (of type Conv1D) was passed an input with a mask attached to it. However, this layer does not support masking and will therefore destroy the mask information. Downstream layers will not see the mask.\n",
      "  warnings.warn(\n"
     ]
    }
   ],
   "source": [
    "def create_cnn_model(vocab_size, embedding_dim, input_length):\n",
    "    inputs = Input(shape=(input_length,))\n",
    "    x = Embedding(input_dim=vocab_size, output_dim=embedding_dim, input_length=input_length, mask_zero=True)(inputs)\n",
    "\n",
    "    # A 1D convolution layer to capture n-gram features\n",
    "    x = Conv1D(filters=128, kernel_size=7, activation='relu')(x)\n",
    "    x = GlobalMaxPooling1D()(x)\n",
    "\n",
    "    x = Dense(256, activation='relu')(x)\n",
    "    x = Dense(64, activation=\"relu\")(x)\n",
    "    x = Dropout(0.5)(x)\n",
    "    # Binary classification output\n",
    "    output_class = Dense(1, activation='sigmoid', name='binary_class')(x)\n",
    "    model = Model(inputs, output_class)\n",
    "    return model\n",
    "\n",
    "# Create the CNN model\n",
    "embedding_dim = 256  # You can experiment with this size\n",
    "cnn_model = create_cnn_model(vocab_size, embedding_dim, input_length=max_length)\n",
    "opt = tf.keras.optimizers.Adam(learning_rate=0.001)\n",
    "# opt = tf.keras.optimizers.SGD(learning_rate=0.001, momentum=0.9, nesterov=True)\n",
    "\n",
    "cnn_model.compile(optimizer=opt, loss='binary_crossentropy', metrics=['accuracy'])\n",
    "# cnn_model.summary()"
   ]
  },
  {
   "cell_type": "markdown",
   "id": "2572fea5-6ba9-4dbc-ac2f-62c31f4a0860",
   "metadata": {},
   "source": [
    "## Training"
   ]
  },
  {
   "cell_type": "code",
   "execution_count": null,
   "id": "b44707ad-198e-4a82-8e3c-e759f9e916d1",
   "metadata": {},
   "outputs": [
    {
     "name": "stdout",
     "output_type": "stream",
     "text": [
      "Epoch 1/5\n"
     ]
    },
    {
     "name": "stderr",
     "output_type": "stream",
     "text": [
      "WARNING: All log messages before absl::InitializeLog() is called are written to STDERR\n",
      "I0000 00:00:1742971429.575078    1980 service.cc:152] XLA service 0x7f7358009c60 initialized for platform CUDA (this does not guarantee that XLA will be used). Devices:\n",
      "I0000 00:00:1742971429.575114    1980 service.cc:160]   StreamExecutor device (0): NVIDIA RTX A2000 Laptop GPU, Compute Capability 8.6\n",
      "2025-03-26 14:43:49.618542: I tensorflow/compiler/mlir/tensorflow/utils/dump_mlir_util.cc:269] disabling MLIR crash reproducer, set env var `MLIR_CRASH_REPRODUCER_DIRECTORY` to enable.\n",
      "I0000 00:00:1742971429.841114    1980 cuda_dnn.cc:529] Loaded cuDNN version 90300\n",
      "2025-03-26 14:43:51.072968: I external/local_xla/xla/stream_executor/cuda/subprocess_compilation.cc:346] ptxas warning : Registers are spilled to local memory in function 'gemm_fusion_dot_1092', 32 bytes spill stores, 32 bytes spill loads\n",
      "\n"
     ]
    },
    {
     "name": "stdout",
     "output_type": "stream",
     "text": [
      "\u001b[1m   2/3630\u001b[0m \u001b[37m━━━━━━━━━━━━━━━━━━━━\u001b[0m \u001b[1m5:23\u001b[0m 89ms/step - accuracy: 0.3984 - loss: 0.6946  "
     ]
    },
    {
     "name": "stderr",
     "output_type": "stream",
     "text": [
      "I0000 00:00:1742971438.596170    1980 device_compiler.h:188] Compiled cluster using XLA!  This line is logged at most once for the lifetime of the process.\n"
     ]
    },
    {
     "name": "stdout",
     "output_type": "stream",
     "text": [
      "\u001b[1m3629/3630\u001b[0m \u001b[32m━━━━━━━━━━━━━━━━━━━\u001b[0m\u001b[37m━\u001b[0m \u001b[1m0s\u001b[0m 84ms/step - accuracy: 0.8496 - loss: 0.3667"
     ]
    },
    {
     "name": "stderr",
     "output_type": "stream",
     "text": [
      "2025-03-26 14:49:04.489785: I external/local_xla/xla/stream_executor/cuda/subprocess_compilation.cc:346] ptxas warning : Registers are spilled to local memory in function 'gemm_fusion_dot_1092', 32 bytes spill stores, 32 bytes spill loads\n",
      "\n",
      "2025-03-26 14:49:07.570666: E external/local_xla/xla/service/slow_operation_alarm.cc:73] Trying algorithm eng11{k2=1,k3=0} for conv %cudnn-conv-bias-activation.3 = (f32[25,128,1,5781]{3,2,1,0}, u8[0]{0}) custom-call(f32[25,256,1,5787]{3,2,1,0} %bitcast.4050, f32[128,256,1,7]{3,2,1,0} %bitcast.4304, f32[128]{0} %bitcast.4452), window={size=1x7}, dim_labels=bf01_oi01->bf01, custom_call_target=\"__cudnn$convBiasActivationForward\", metadata={op_type=\"Conv2D\" op_name=\"functional_1/conv1d_1/convolution\" source_file=\"/opt/miniconda/envs/phisherman/lib/python3.10/site-packages/tensorflow/python/framework/ops.py\" source_line=1200}, backend_config={\"operation_queue_id\":\"0\",\"wait_on_operation_queues\":[],\"cudnn_conv_backend_config\":{\"conv_result_scale\":1,\"activation_mode\":\"kNone\",\"side_input_scale\":0,\"leakyrelu_alpha\":0},\"force_earliest_schedule\":false} is taking a while...\n",
      "2025-03-26 14:49:07.597919: E external/local_xla/xla/service/slow_operation_alarm.cc:140] The operation took 1.88322596s\n",
      "Trying algorithm eng11{k2=1,k3=0} for conv %cudnn-conv-bias-activation.3 = (f32[25,128,1,5781]{3,2,1,0}, u8[0]{0}) custom-call(f32[25,256,1,5787]{3,2,1,0} %bitcast.4050, f32[128,256,1,7]{3,2,1,0} %bitcast.4304, f32[128]{0} %bitcast.4452), window={size=1x7}, dim_labels=bf01_oi01->bf01, custom_call_target=\"__cudnn$convBiasActivationForward\", metadata={op_type=\"Conv2D\" op_name=\"functional_1/conv1d_1/convolution\" source_file=\"/opt/miniconda/envs/phisherman/lib/python3.10/site-packages/tensorflow/python/framework/ops.py\" source_line=1200}, backend_config={\"operation_queue_id\":\"0\",\"wait_on_operation_queues\":[],\"cudnn_conv_backend_config\":{\"conv_result_scale\":1,\"activation_mode\":\"kNone\",\"side_input_scale\":0,\"leakyrelu_alpha\":0},\"force_earliest_schedule\":false} is taking a while...\n"
     ]
    },
    {
     "name": "stdout",
     "output_type": "stream",
     "text": [
      "\u001b[1m3630/3630\u001b[0m \u001b[32m━━━━━━━━━━━━━━━━━━━━\u001b[0m\u001b[37m\u001b[0m \u001b[1m369s\u001b[0m 99ms/step - accuracy: 0.8496 - loss: 0.3667 - val_accuracy: 0.8960 - val_loss: 0.2740\n",
      "Epoch 2/5\n",
      "\u001b[1m3345/3630\u001b[0m \u001b[32m━━━━━━━━━━━━━━━━━━\u001b[0m\u001b[37m━━\u001b[0m \u001b[1m24s\u001b[0m 87ms/step - accuracy: 0.9022 - loss: 0.2597"
     ]
    }
   ],
   "source": [
    "history_cnn = cnn_model.fit(\n",
    "    X_train_encoding,\n",
    "    y_train,\n",
    "    epochs=5,\n",
    "    validation_split=0.3,\n",
    "    batch_size=32,\n",
    "    callbacks=[early_stopping],\n",
    ")"
   ]
  },
  {
   "cell_type": "markdown",
   "id": "7050321e-1919-4bfc-8da8-72ba75a38f68",
   "metadata": {},
   "source": [
    "## Evaluation"
   ]
  },
  {
   "cell_type": "code",
   "execution_count": null,
   "id": "41ef0041-8c96-4f91-aabe-a80d37ebee65",
   "metadata": {},
   "outputs": [],
   "source": [
    "y_pred = cnn_model.predict(X_test_encoding)"
   ]
  },
  {
   "cell_type": "code",
   "execution_count": null,
   "id": "986af219-3903-4332-be78-1b601b613a16",
   "metadata": {},
   "outputs": [],
   "source": [
    "y_pred_int = (y_pred > 0.5).astype(int)"
   ]
  },
  {
   "cell_type": "code",
   "execution_count": null,
   "id": "3b45e495-c601-4439-998c-36e4988ea8f8",
   "metadata": {},
   "outputs": [],
   "source": [
    "def accuracy_and_confusion_matrix(y_test, y_pred):\n",
    "    precision = precision_score(y_test, y_pred)\n",
    "    recall = recall_score(y_test, y_pred)\n",
    "    f1 = f1_score(y_test, y_pred)\n",
    "    accuracy = accuracy_score(y_test, y_pred)\n",
    "    \n",
    "    print(f\"Precision is: {precision}\")\n",
    "    print(f\"Recall is: {recall}\")\n",
    "    print(f\"F1 Score is: {f1}\")\n",
    "    print(f\"Accuracy is: {accuracy}\")\n",
    "    \n",
    "    cm = confusion_matrix(y_test, y_pred)\n",
    "    sns.heatmap(\n",
    "        cm,\n",
    "        annot=True,\n",
    "        fmt=\"d\",\n",
    "        cmap=\"Blues\",\n",
    "        xticklabels=[\"Safe\", \"Phishing\"],\n",
    "        yticklabels=[\"Safe\", \"Phishing\"],\n",
    "    )\n",
    "    plt.xlabel(\"Predicted\")\n",
    "    plt.ylabel(\"Actual\")\n",
    "    plt.title(\"Confusion Matrix\")\n",
    "    plt.show()"
   ]
  },
  {
   "cell_type": "code",
   "execution_count": null,
   "id": "c300b129-00a6-4628-a2ab-b1de7bc599ee",
   "metadata": {},
   "outputs": [],
   "source": [
    "accuracy_and_confusion_matrix(y_test, y_pred_int)"
   ]
  },
  {
   "cell_type": "code",
   "execution_count": null,
   "id": "7deadde8-8b3a-4081-94f1-a6bcd24f3a49",
   "metadata": {},
   "outputs": [],
   "source": [
    "df_errors = pd.DataFrame({\n",
    "    \"URL\": X_train,\n",
    "    \"label\": y_test,\n",
    "    \"Prediction\": y_pred_int\n",
    "})\n",
    "\n",
    "df_errors.head()"
   ]
  },
  {
   "cell_type": "code",
   "execution_count": null,
   "id": "6c5e4045-c0ed-4370-9ff4-147c528d9995",
   "metadata": {},
   "outputs": [],
   "source": []
  }
 ],
 "metadata": {
  "kernelspec": {
   "display_name": "Python 3 (ipykernel)",
   "language": "python",
   "name": "python3"
  },
  "language_info": {
   "codemirror_mode": {
    "name": "ipython",
    "version": 3
   },
   "file_extension": ".py",
   "mimetype": "text/x-python",
   "name": "python",
   "nbconvert_exporter": "python",
   "pygments_lexer": "ipython3",
   "version": "3.10.16"
  }
 },
 "nbformat": 4,
 "nbformat_minor": 5
}

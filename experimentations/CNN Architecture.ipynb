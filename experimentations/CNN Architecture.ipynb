{
 "cells": [
  {
   "cell_type": "markdown",
   "id": "33baa013-14fa-454c-898b-15a23452a9da",
   "metadata": {},
   "source": [
    "# Experimentation of Detecting Phishing Links "
   ]
  },
  {
   "cell_type": "code",
   "execution_count": 2,
   "id": "84c8e8ab-93db-4fa8-826b-ef49e9f298c9",
   "metadata": {},
   "outputs": [],
   "source": [
    "import numpy as np\n",
    "import pandas as pd\n",
    "import matplotlib.pyplot as plt\n",
    "\n",
    "from sklearn.model_selection import train_test_split\n",
    "from sklearn.metrics import (\n",
    "    precision_score,\n",
    "    recall_score,\n",
    "    f1_score,\n",
    "    accuracy_score,\n",
    ")\n",
    "\n",
    "import tensorflow as tf\n",
    "from tensorflow.keras.preprocessing.text import Tokenizer\n",
    "from tensorflow.keras.preprocessing.sequence import pad_sequences\n",
    "from tensorflow.keras.layers import (\n",
    "    Input,\n",
    "    Embedding,\n",
    "    Conv1D,\n",
    "    GlobalMaxPooling1D,\n",
    "    Dense,\n",
    "    Dropout,\n",
    ")\n",
    "from tensorflow.keras.models import Model\n",
    "\n",
    "import os\n",
    "import requests\n",
    "import zipfile\n",
    "import os"
   ]
  },
  {
   "cell_type": "markdown",
   "id": "fe7bd361-ab13-4609-9302-95d082272de5",
   "metadata": {},
   "source": [
    "## Datasets\n",
    "\n",
    "- https://data.mendeley.com/datasets/vfszbj9b36/1\n",
    "- https://archive.ics.uci.edu/dataset/967/phiusiil+phishing+url+dataset\n",
    "- https://www.kaggle.com/datasets/harisudhan411/phishing-and-legitimate-urls\n",
    "- https://www.kaggle.com/datasets/taruntiwarihp/phishing-site-urls\n",
    "- https://www.kaggle.com/datasets/joebeachcapital/phishing-urls\n",
    "- https://www.kaggle.com/datasets/shashwatwork/web-page-phishing-detection-dataset"
   ]
  },
  {
   "cell_type": "code",
   "execution_count": 3,
   "id": "365d1158-4b3e-4b16-8666-d34c1ea6cce4",
   "metadata": {},
   "outputs": [
    {
     "name": "stderr",
     "output_type": "stream",
     "text": [
      "/tmp/ipykernel_1615/1400040877.py:24: DtypeWarning: Columns (1,2,3,11,12) have mixed types. Specify dtype option on import or set low_memory=False.\n",
      "  phishing_df5 = pd.read_csv(\n"
     ]
    }
   ],
   "source": [
    "phishing_df = pd.read_csv(\"dataset/phishing_data_num_1.csv\")\n",
    "phishing_df = phishing_df[[\"URL\", \"label\"]]\n",
    "\n",
    "\n",
    "phishing_df2 = pd.read_csv(\"dataset/dataset_num_2.csv\")\n",
    "phishing_df2[\"type\"] = phishing_df2[\"type\"].apply(\n",
    "    lambda x: 0 if x == \"legitimate\" else 1\n",
    ")\n",
    "phishing_df2.columns = ['URL', 'label']\n",
    "\n",
    "\n",
    "phishing_df3 = pd.read_csv(\"dataset/dataset_num_3.csv\")\n",
    "phishing_df3.columns = [\"URL\", \"label\"]\n",
    "\n",
    "\n",
    "phishing_df4 = pd.read_csv(\"dataset/phishing_data_num_4.csv\")\n",
    "phishing_df4.columns = [\"URL\", \"label\"]\n",
    "phishing_df4[\"label\"] = phishing_df4[\"label\"].apply(\n",
    "    lambda x: 1 if x == \"bad\" else 0\n",
    ")\n",
    "phishing_df4_bad = phishing_df4[phishing_df4['label'] == 1]\n",
    "\n",
    "\n",
    "phishing_df5 = pd.read_csv(\n",
    "    \"dataset/dataset_num 5.csv\", encoding=\"ISO-8859-1\", on_bad_lines=\"skip\"\n",
    ")\n",
    "phishing_df5 = phishing_df5[['domain', 'label']].dropna()\n",
    "phishing_df5.columns = [\"URL\", \"label\"]\n",
    "phishing_df5[\"label\"] = phishing_df5[\"label\"].astype(int)\n",
    "\n",
    "\n",
    "phishing_df6 = pd.read_csv(\"dataset/dataset_phishing num 6.csv\")\n",
    "phishing_df6 = phishing_df6[['url', 'status']]\n",
    "phishing_df6.columns = [\"URL\", \"label\"]\n",
    "phishing_df6[\"label\"] = phishing_df6[\"label\"].apply(\n",
    "    lambda x: 1 if x == \"phishing\" else 0\n",
    ")"
   ]
  },
  {
   "cell_type": "code",
   "execution_count": 7,
   "id": "bdace3a4-949b-4607-b187-2f325899d553",
   "metadata": {},
   "outputs": [],
   "source": [
    "df = pd.concat(\n",
    "    [\n",
    "        phishing_df,\n",
    "        phishing_df2,\n",
    "        phishing_df3,\n",
    "        phishing_df4_bad,\n",
    "        phishing_df5,\n",
    "        phishing_df6,\n",
    "    ],\n",
    "    ignore_index=True,\n",
    ")"
   ]
  },
  {
   "cell_type": "code",
   "execution_count": 8,
   "id": "39cc6eca-2eaf-4a78-96cb-bda1c34a927a",
   "metadata": {},
   "outputs": [],
   "source": [
    "df = df.drop_duplicates(subset=\"URL\", keep=\"last\")"
   ]
  },
  {
   "cell_type": "code",
   "execution_count": 9,
   "id": "a24c8919-6dfc-4642-afd4-316cf656f103",
   "metadata": {},
   "outputs": [
    {
     "data": {
      "text/plain": [
       "1481551"
      ]
     },
     "execution_count": 9,
     "metadata": {},
     "output_type": "execute_result"
    }
   ],
   "source": [
    "len(df_combined)"
   ]
  },
  {
   "cell_type": "code",
   "execution_count": 10,
   "id": "e550fe13-71e6-4d93-9e7b-21c3bc9068cc",
   "metadata": {},
   "outputs": [
    {
     "name": "stdout",
     "output_type": "stream",
     "text": [
      "<class 'pandas.core.frame.DataFrame'>\n",
      "Index: 1481551 entries, 0 to 1771745\n",
      "Data columns (total 2 columns):\n",
      " #   Column  Non-Null Count    Dtype \n",
      "---  ------  --------------    ----- \n",
      " 0   URL     1481551 non-null  object\n",
      " 1   label   1481551 non-null  int64 \n",
      "dtypes: int64(1), object(1)\n",
      "memory usage: 33.9+ MB\n"
     ]
    }
   ],
   "source": [
    "df.info()"
   ]
  },
  {
   "cell_type": "markdown",
   "id": "4c9d9785-e241-4efd-96a1-c2e376c08e76",
   "metadata": {},
   "source": [
    "## Data Exploration"
   ]
  },
  {
   "cell_type": "code",
   "execution_count": 16,
   "id": "67f90471-eb0d-43cb-b3d7-f99bfdc2dd96",
   "metadata": {},
   "outputs": [
    {
     "data": {
      "text/html": [
       "<div>\n",
       "<style scoped>\n",
       "    .dataframe tbody tr th:only-of-type {\n",
       "        vertical-align: middle;\n",
       "    }\n",
       "\n",
       "    .dataframe tbody tr th {\n",
       "        vertical-align: top;\n",
       "    }\n",
       "\n",
       "    .dataframe thead th {\n",
       "        text-align: right;\n",
       "    }\n",
       "</style>\n",
       "<table border=\"1\" class=\"dataframe\">\n",
       "  <thead>\n",
       "    <tr style=\"text-align: right;\">\n",
       "      <th></th>\n",
       "      <th>Label Percentage</th>\n",
       "    </tr>\n",
       "  </thead>\n",
       "  <tbody>\n",
       "    <tr>\n",
       "      <th>Non-Phishing</th>\n",
       "      <td>51.0</td>\n",
       "    </tr>\n",
       "    <tr>\n",
       "      <th>Phishing</th>\n",
       "      <td>49.0</td>\n",
       "    </tr>\n",
       "  </tbody>\n",
       "</table>\n",
       "</div>"
      ],
      "text/plain": [
       "              Label Percentage\n",
       "Non-Phishing              51.0\n",
       "Phishing                  49.0"
      ]
     },
     "execution_count": 16,
     "metadata": {},
     "output_type": "execute_result"
    }
   ],
   "source": [
    "df_label_count = df.groupby(by=\"label\").count()\n",
    "df_label_count.index = ['Non-Phishing', 'Phishing']\n",
    "\n",
    "total_count = df_label_count.sum()\n",
    "check_label_counts_percentage = (df_label_count / total_count) * 100\n",
    "check_label_counts_percentage.columns = ['Label Percentage']\n",
    "check_label_counts_percentage.apply(round)"
   ]
  },
  {
   "cell_type": "code",
   "execution_count": 33,
   "id": "fcac13ef-1b05-409c-92ea-54d69de3f62c",
   "metadata": {},
   "outputs": [
    {
     "name": "stdout",
     "output_type": "stream",
     "text": [
      "Num of rows that contains 'http' in the URL is: 59%\n",
      "Num of rows that does not contain 'http' in the URL is: 41%\n"
     ]
    }
   ],
   "source": [
    "# How many url contains http in the string\n",
    "df_http = df['URL'].str.contains('http', na=False)\n",
    "df_http.sum()\n",
    "\n",
    "contains_http = (df_http.sum() / len(df_http)) * 100\n",
    "does_not_contain_http = 100 - contains_http\n",
    "\n",
    "print(f\"Num of rows that contains 'http' in the URL is: {contains_http:.0f}%\")\n",
    "print(f\"Num of rows that does not contain 'http' in the URL is: {does_not_contain_http:.0f}%\")"
   ]
  },
  {
   "cell_type": "code",
   "execution_count": 37,
   "id": "f42cfa6d-4b2d-44f6-bf68-94186acf63cd",
   "metadata": {},
   "outputs": [
    {
     "data": {
      "text/html": [
       "<div>\n",
       "<style scoped>\n",
       "    .dataframe tbody tr th:only-of-type {\n",
       "        vertical-align: middle;\n",
       "    }\n",
       "\n",
       "    .dataframe tbody tr th {\n",
       "        vertical-align: top;\n",
       "    }\n",
       "\n",
       "    .dataframe thead th {\n",
       "        text-align: right;\n",
       "    }\n",
       "</style>\n",
       "<table border=\"1\" class=\"dataframe\">\n",
       "  <thead>\n",
       "    <tr style=\"text-align: right;\">\n",
       "      <th></th>\n",
       "      <th>URL</th>\n",
       "      <th>label</th>\n",
       "    </tr>\n",
       "  </thead>\n",
       "  <tbody>\n",
       "    <tr>\n",
       "      <th>0</th>\n",
       "      <td>https://www.southbankmosaics.com</td>\n",
       "      <td>1</td>\n",
       "    </tr>\n",
       "    <tr>\n",
       "      <th>1</th>\n",
       "      <td>https://www.uni-mainz.de</td>\n",
       "      <td>1</td>\n",
       "    </tr>\n",
       "    <tr>\n",
       "      <th>2</th>\n",
       "      <td>https://www.voicefmradio.co.uk</td>\n",
       "      <td>1</td>\n",
       "    </tr>\n",
       "    <tr>\n",
       "      <th>3</th>\n",
       "      <td>https://www.sfnmjournal.com</td>\n",
       "      <td>1</td>\n",
       "    </tr>\n",
       "    <tr>\n",
       "      <th>4</th>\n",
       "      <td>https://www.rewildingargentina.org</td>\n",
       "      <td>1</td>\n",
       "    </tr>\n",
       "  </tbody>\n",
       "</table>\n",
       "</div>"
      ],
      "text/plain": [
       "                                  URL  label\n",
       "0    https://www.southbankmosaics.com      1\n",
       "1            https://www.uni-mainz.de      1\n",
       "2      https://www.voicefmradio.co.uk      1\n",
       "3         https://www.sfnmjournal.com      1\n",
       "4  https://www.rewildingargentina.org      1"
      ]
     },
     "execution_count": 37,
     "metadata": {},
     "output_type": "execute_result"
    }
   ],
   "source": [
    "df[df['URL'].str.contains('http', na=False)].head()"
   ]
  },
  {
   "cell_type": "code",
   "execution_count": 41,
   "id": "e7d11e9b-9551-4fd8-9aa6-3f5fc44ee19a",
   "metadata": {},
   "outputs": [
    {
     "data": {
      "text/html": [
       "<div>\n",
       "<style scoped>\n",
       "    .dataframe tbody tr th:only-of-type {\n",
       "        vertical-align: middle;\n",
       "    }\n",
       "\n",
       "    .dataframe tbody tr th {\n",
       "        vertical-align: top;\n",
       "    }\n",
       "\n",
       "    .dataframe thead th {\n",
       "        text-align: right;\n",
       "    }\n",
       "</style>\n",
       "<table border=\"1\" class=\"dataframe\">\n",
       "  <thead>\n",
       "    <tr style=\"text-align: right;\">\n",
       "      <th></th>\n",
       "      <th>URL</th>\n",
       "      <th>label</th>\n",
       "    </tr>\n",
       "  </thead>\n",
       "  <tbody>\n",
       "    <tr>\n",
       "      <th>578260</th>\n",
       "      <td>ftp://ftp.cs.utexas.edu/pub/garbage/</td>\n",
       "      <td>0</td>\n",
       "    </tr>\n",
       "    <tr>\n",
       "      <th>668929</th>\n",
       "      <td>ftp://me@createkindlebooks.org:Noobasshole@cre...</td>\n",
       "      <td>1</td>\n",
       "    </tr>\n",
       "    <tr>\n",
       "      <th>670742</th>\n",
       "      <td>ftp://188.128.111.33/web/sec.htm</td>\n",
       "      <td>1</td>\n",
       "    </tr>\n",
       "    <tr>\n",
       "      <th>680939</th>\n",
       "      <td>ftp://188.128.111.33/IPTV/TV1324/view.html</td>\n",
       "      <td>1</td>\n",
       "    </tr>\n",
       "    <tr>\n",
       "      <th>683930</th>\n",
       "      <td>ftp://host3-61-static.7-79-b.business.telecomi...</td>\n",
       "      <td>1</td>\n",
       "    </tr>\n",
       "  </tbody>\n",
       "</table>\n",
       "</div>"
      ],
      "text/plain": [
       "                                                      URL  label\n",
       "578260               ftp://ftp.cs.utexas.edu/pub/garbage/      0\n",
       "668929  ftp://me@createkindlebooks.org:Noobasshole@cre...      1\n",
       "670742                   ftp://188.128.111.33/web/sec.htm      1\n",
       "680939         ftp://188.128.111.33/IPTV/TV1324/view.html      1\n",
       "683930  ftp://host3-61-static.7-79-b.business.telecomi...      1"
      ]
     },
     "execution_count": 41,
     "metadata": {},
     "output_type": "execute_result"
    }
   ],
   "source": [
    "df[~df['URL'].str.contains('http', na=False)].head()"
   ]
  },
  {
   "cell_type": "markdown",
   "id": "7c11305e-d33d-4eb2-92b2-90fc621d8db9",
   "metadata": {},
   "source": [
    "## Data Cleaning"
   ]
  },
  {
   "cell_type": "code",
   "execution_count": 42,
   "id": "4911a621-03e4-48e9-9e6c-cc5ffe45cd0e",
   "metadata": {},
   "outputs": [],
   "source": [
    "# Remove anything that has start of string to :// \n",
    "df['URL'] = df['URL'].str.replace(r'^.*?://', '', regex=True)"
   ]
  },
  {
   "cell_type": "code",
   "execution_count": 44,
   "id": "5d776ba6-8f9e-4930-ab05-dfe36b952af8",
   "metadata": {},
   "outputs": [
    {
     "data": {
      "text/html": [
       "<div>\n",
       "<style scoped>\n",
       "    .dataframe tbody tr th:only-of-type {\n",
       "        vertical-align: middle;\n",
       "    }\n",
       "\n",
       "    .dataframe tbody tr th {\n",
       "        vertical-align: top;\n",
       "    }\n",
       "\n",
       "    .dataframe thead th {\n",
       "        text-align: right;\n",
       "    }\n",
       "</style>\n",
       "<table border=\"1\" class=\"dataframe\">\n",
       "  <thead>\n",
       "    <tr style=\"text-align: right;\">\n",
       "      <th></th>\n",
       "      <th>URL</th>\n",
       "      <th>label</th>\n",
       "    </tr>\n",
       "  </thead>\n",
       "  <tbody>\n",
       "    <tr>\n",
       "      <th>68</th>\n",
       "      <td>www.httpzen.fairhash.org</td>\n",
       "      <td>0</td>\n",
       "    </tr>\n",
       "    <tr>\n",
       "      <th>401</th>\n",
       "      <td>43.134.167.94/servicelogin?passive=1209600&amp;amp...</td>\n",
       "      <td>0</td>\n",
       "    </tr>\n",
       "    <tr>\n",
       "      <th>1093</th>\n",
       "      <td>www.google.com/url?q=https://ipfs.io/ipfs/qmpo...</td>\n",
       "      <td>0</td>\n",
       "    </tr>\n",
       "    <tr>\n",
       "      <th>1205</th>\n",
       "      <td>43.128.92.128/servicelogin?passive=1209600&amp;amp...</td>\n",
       "      <td>0</td>\n",
       "    </tr>\n",
       "    <tr>\n",
       "      <th>1362</th>\n",
       "      <td>43.134.167.94/v3/signin/identifier?dsh=s151927...</td>\n",
       "      <td>0</td>\n",
       "    </tr>\n",
       "    <tr>\n",
       "      <th>1683</th>\n",
       "      <td>www.http.jmrmfitym.com</td>\n",
       "      <td>0</td>\n",
       "    </tr>\n",
       "    <tr>\n",
       "      <th>1725</th>\n",
       "      <td>cloud.mymailwall.com/n/url?l=okcgntugaaaaaa&amp;am...</td>\n",
       "      <td>0</td>\n",
       "    </tr>\n",
       "    <tr>\n",
       "      <th>2481</th>\n",
       "      <td>43.153.207.103/v3/signin/identifier?dsh=s-1633...</td>\n",
       "      <td>0</td>\n",
       "    </tr>\n",
       "    <tr>\n",
       "      <th>2530</th>\n",
       "      <td>43.156.0.130/servicelogin?passive=1209600&amp;amp;...</td>\n",
       "      <td>0</td>\n",
       "    </tr>\n",
       "    <tr>\n",
       "      <th>4369</th>\n",
       "      <td>saproxy.us.to/servicelogin?passive=1209600&amp;con...</td>\n",
       "      <td>0</td>\n",
       "    </tr>\n",
       "  </tbody>\n",
       "</table>\n",
       "</div>"
      ],
      "text/plain": [
       "                                                    URL  label\n",
       "68                             www.httpzen.fairhash.org      0\n",
       "401   43.134.167.94/servicelogin?passive=1209600&amp...      0\n",
       "1093  www.google.com/url?q=https://ipfs.io/ipfs/qmpo...      0\n",
       "1205  43.128.92.128/servicelogin?passive=1209600&amp...      0\n",
       "1362  43.134.167.94/v3/signin/identifier?dsh=s151927...      0\n",
       "1683                             www.http.jmrmfitym.com      0\n",
       "1725  cloud.mymailwall.com/n/url?l=okcgntugaaaaaa&am...      0\n",
       "2481  43.153.207.103/v3/signin/identifier?dsh=s-1633...      0\n",
       "2530  43.156.0.130/servicelogin?passive=1209600&amp;...      0\n",
       "4369  saproxy.us.to/servicelogin?passive=1209600&con...      0"
      ]
     },
     "execution_count": 44,
     "metadata": {},
     "output_type": "execute_result"
    }
   ],
   "source": [
    "df[df['URL'].str.contains('http', na=False)].head(10)"
   ]
  },
  {
   "cell_type": "code",
   "execution_count": null,
   "id": "91bd6dad-c483-4d5d-a92e-c3417242ac17",
   "metadata": {},
   "outputs": [],
   "source": []
  }
 ],
 "metadata": {
  "kernelspec": {
   "display_name": "Python 3 (ipykernel)",
   "language": "python",
   "name": "python3"
  },
  "language_info": {
   "codemirror_mode": {
    "name": "ipython",
    "version": 3
   },
   "file_extension": ".py",
   "mimetype": "text/x-python",
   "name": "python",
   "nbconvert_exporter": "python",
   "pygments_lexer": "ipython3",
   "version": "3.10.16"
  }
 },
 "nbformat": 4,
 "nbformat_minor": 5
}
